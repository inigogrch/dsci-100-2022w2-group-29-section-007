{
 "cells": [
  {
   "cell_type": "markdown",
   "id": "bf9a8bd1-5674-4e81-8830-14f313250d9c",
   "metadata": {},
   "source": [
    "# KNN Classification Analysis of Stroke Prediction "
   ]
  },
  {
   "cell_type": "code",
   "execution_count": 6,
   "id": "6e0349cb-282a-44a6-8701-13275cd136b2",
   "metadata": {},
   "outputs": [
    {
     "name": "stderr",
     "output_type": "stream",
     "text": [
      "Updating HTML index of packages in '.Library'\n",
      "\n",
      "Making 'packages.html' ...\n",
      " done\n",
      "\n"
     ]
    }
   ],
   "source": [
    "library(tidyverse)\n",
    "library(repr)\n",
    "library(dplyr)\n",
    "library(tidymodels)\n",
    "install.packages(\"themis\")\n",
    "library(themis)\n",
    "\n",
    "set.seed(2023)\n",
    "options(repr.matrix.max.rows = 8) "
   ]
  },
  {
   "cell_type": "markdown",
   "id": "41d0eca7-cafd-449e-ae3f-a2d2cbede23e",
   "metadata": {},
   "source": [
    "## Introduction\n",
    "\n",
    "\"insert introduction\""
   ]
  },
  {
   "cell_type": "markdown",
   "id": "a703e0f5-c083-49b2-bdfa-e2d293c54d21",
   "metadata": {},
   "source": [
    "## Preliminary Data Analysis\n",
    "\n",
    "Classification will be performed using the K-nearest-neighbor (KNN) algorithm. The target variable is the “stroke” column. The predictor variables will be determined using summary statistics and visualizations.  "
   ]
  },
  {
   "cell_type": "markdown",
   "id": "022dd8bd-b9ea-4a43-8eac-e0797e1a4494",
   "metadata": {},
   "source": [
    "First, the data set was uploaded onto Google Drive and read into R using the URL link.\n"
   ]
  },
  {
   "cell_type": "code",
   "execution_count": 7,
   "id": "3e28ebf6-86cb-4fc6-bd1d-41b493be5adc",
   "metadata": {},
   "outputs": [
    {
     "name": "stderr",
     "output_type": "stream",
     "text": [
      "\u001b[1mRows: \u001b[22m\u001b[34m4981\u001b[39m \u001b[1mColumns: \u001b[22m\u001b[34m11\u001b[39m\n",
      "\u001b[36m──\u001b[39m \u001b[1mColumn specification\u001b[22m \u001b[36m────────────────────────────────────────────────────────\u001b[39m\n",
      "\u001b[1mDelimiter:\u001b[22m \",\"\n",
      "\u001b[31mchr\u001b[39m (5): gender, ever_married, work_type, Residence_type, smoking_status\n",
      "\u001b[32mdbl\u001b[39m (6): age, hypertension, heart_disease, avg_glucose_level, bmi, stroke\n",
      "\n",
      "\u001b[36mℹ\u001b[39m Use `spec()` to retrieve the full column specification for this data.\n",
      "\u001b[36mℹ\u001b[39m Specify the column types or set `show_col_types = FALSE` to quiet this message.\n"
     ]
    },
    {
     "data": {
      "text/html": [
       "<table class=\"dataframe\">\n",
       "<caption>A spec_tbl_df: 4981 × 11</caption>\n",
       "<thead>\n",
       "\t<tr><th scope=col>gender</th><th scope=col>age</th><th scope=col>hypertension</th><th scope=col>heart_disease</th><th scope=col>ever_married</th><th scope=col>work_type</th><th scope=col>Residence_type</th><th scope=col>avg_glucose_level</th><th scope=col>bmi</th><th scope=col>smoking_status</th><th scope=col>stroke</th></tr>\n",
       "\t<tr><th scope=col>&lt;chr&gt;</th><th scope=col>&lt;dbl&gt;</th><th scope=col>&lt;dbl&gt;</th><th scope=col>&lt;dbl&gt;</th><th scope=col>&lt;chr&gt;</th><th scope=col>&lt;chr&gt;</th><th scope=col>&lt;chr&gt;</th><th scope=col>&lt;dbl&gt;</th><th scope=col>&lt;dbl&gt;</th><th scope=col>&lt;chr&gt;</th><th scope=col>&lt;dbl&gt;</th></tr>\n",
       "</thead>\n",
       "<tbody>\n",
       "\t<tr><td>Male  </td><td>67</td><td>0</td><td>1</td><td>Yes</td><td>Private      </td><td>Urban</td><td>228.69</td><td>36.6</td><td>formerly smoked</td><td>1</td></tr>\n",
       "\t<tr><td>Male  </td><td>80</td><td>0</td><td>1</td><td>Yes</td><td>Private      </td><td>Rural</td><td>105.92</td><td>32.5</td><td>never smoked   </td><td>1</td></tr>\n",
       "\t<tr><td>Female</td><td>49</td><td>0</td><td>0</td><td>Yes</td><td>Private      </td><td>Urban</td><td>171.23</td><td>34.4</td><td>smokes         </td><td>1</td></tr>\n",
       "\t<tr><td>Female</td><td>79</td><td>1</td><td>0</td><td>Yes</td><td>Self-employed</td><td>Rural</td><td>174.12</td><td>24.0</td><td>never smoked   </td><td>1</td></tr>\n",
       "\t<tr><td>⋮</td><td>⋮</td><td>⋮</td><td>⋮</td><td>⋮</td><td>⋮</td><td>⋮</td><td>⋮</td><td>⋮</td><td>⋮</td><td>⋮</td></tr>\n",
       "\t<tr><td>Male  </td><td>40</td><td>0</td><td>0</td><td>Yes</td><td>Private </td><td>Urban</td><td>191.15</td><td>31.1</td><td>smokes      </td><td>0</td></tr>\n",
       "\t<tr><td>Female</td><td>45</td><td>1</td><td>0</td><td>Yes</td><td>Govt_job</td><td>Rural</td><td> 95.02</td><td>31.8</td><td>smokes      </td><td>0</td></tr>\n",
       "\t<tr><td>Male  </td><td>40</td><td>0</td><td>0</td><td>Yes</td><td>Private </td><td>Rural</td><td> 83.94</td><td>30.0</td><td>smokes      </td><td>0</td></tr>\n",
       "\t<tr><td>Female</td><td>80</td><td>1</td><td>0</td><td>Yes</td><td>Private </td><td>Urban</td><td> 83.75</td><td>29.1</td><td>never smoked</td><td>0</td></tr>\n",
       "</tbody>\n",
       "</table>\n"
      ],
      "text/latex": [
       "A spec\\_tbl\\_df: 4981 × 11\n",
       "\\begin{tabular}{lllllllllll}\n",
       " gender & age & hypertension & heart\\_disease & ever\\_married & work\\_type & Residence\\_type & avg\\_glucose\\_level & bmi & smoking\\_status & stroke\\\\\n",
       " <chr> & <dbl> & <dbl> & <dbl> & <chr> & <chr> & <chr> & <dbl> & <dbl> & <chr> & <dbl>\\\\\n",
       "\\hline\n",
       "\t Male   & 67 & 0 & 1 & Yes & Private       & Urban & 228.69 & 36.6 & formerly smoked & 1\\\\\n",
       "\t Male   & 80 & 0 & 1 & Yes & Private       & Rural & 105.92 & 32.5 & never smoked    & 1\\\\\n",
       "\t Female & 49 & 0 & 0 & Yes & Private       & Urban & 171.23 & 34.4 & smokes          & 1\\\\\n",
       "\t Female & 79 & 1 & 0 & Yes & Self-employed & Rural & 174.12 & 24.0 & never smoked    & 1\\\\\n",
       "\t ⋮ & ⋮ & ⋮ & ⋮ & ⋮ & ⋮ & ⋮ & ⋮ & ⋮ & ⋮ & ⋮\\\\\n",
       "\t Male   & 40 & 0 & 0 & Yes & Private  & Urban & 191.15 & 31.1 & smokes       & 0\\\\\n",
       "\t Female & 45 & 1 & 0 & Yes & Govt\\_job & Rural &  95.02 & 31.8 & smokes       & 0\\\\\n",
       "\t Male   & 40 & 0 & 0 & Yes & Private  & Rural &  83.94 & 30.0 & smokes       & 0\\\\\n",
       "\t Female & 80 & 1 & 0 & Yes & Private  & Urban &  83.75 & 29.1 & never smoked & 0\\\\\n",
       "\\end{tabular}\n"
      ],
      "text/markdown": [
       "\n",
       "A spec_tbl_df: 4981 × 11\n",
       "\n",
       "| gender &lt;chr&gt; | age &lt;dbl&gt; | hypertension &lt;dbl&gt; | heart_disease &lt;dbl&gt; | ever_married &lt;chr&gt; | work_type &lt;chr&gt; | Residence_type &lt;chr&gt; | avg_glucose_level &lt;dbl&gt; | bmi &lt;dbl&gt; | smoking_status &lt;chr&gt; | stroke &lt;dbl&gt; |\n",
       "|---|---|---|---|---|---|---|---|---|---|---|\n",
       "| Male   | 67 | 0 | 1 | Yes | Private       | Urban | 228.69 | 36.6 | formerly smoked | 1 |\n",
       "| Male   | 80 | 0 | 1 | Yes | Private       | Rural | 105.92 | 32.5 | never smoked    | 1 |\n",
       "| Female | 49 | 0 | 0 | Yes | Private       | Urban | 171.23 | 34.4 | smokes          | 1 |\n",
       "| Female | 79 | 1 | 0 | Yes | Self-employed | Rural | 174.12 | 24.0 | never smoked    | 1 |\n",
       "| ⋮ | ⋮ | ⋮ | ⋮ | ⋮ | ⋮ | ⋮ | ⋮ | ⋮ | ⋮ | ⋮ |\n",
       "| Male   | 40 | 0 | 0 | Yes | Private  | Urban | 191.15 | 31.1 | smokes       | 0 |\n",
       "| Female | 45 | 1 | 0 | Yes | Govt_job | Rural |  95.02 | 31.8 | smokes       | 0 |\n",
       "| Male   | 40 | 0 | 0 | Yes | Private  | Rural |  83.94 | 30.0 | smokes       | 0 |\n",
       "| Female | 80 | 1 | 0 | Yes | Private  | Urban |  83.75 | 29.1 | never smoked | 0 |\n",
       "\n"
      ],
      "text/plain": [
       "     gender age hypertension heart_disease ever_married work_type    \n",
       "1    Male   67  0            1             Yes          Private      \n",
       "2    Male   80  0            1             Yes          Private      \n",
       "3    Female 49  0            0             Yes          Private      \n",
       "4    Female 79  1            0             Yes          Self-employed\n",
       "⋮    ⋮      ⋮   ⋮            ⋮             ⋮            ⋮            \n",
       "4978 Male   40  0            0             Yes          Private      \n",
       "4979 Female 45  1            0             Yes          Govt_job     \n",
       "4980 Male   40  0            0             Yes          Private      \n",
       "4981 Female 80  1            0             Yes          Private      \n",
       "     Residence_type avg_glucose_level bmi  smoking_status  stroke\n",
       "1    Urban          228.69            36.6 formerly smoked 1     \n",
       "2    Rural          105.92            32.5 never smoked    1     \n",
       "3    Urban          171.23            34.4 smokes          1     \n",
       "4    Rural          174.12            24.0 never smoked    1     \n",
       "⋮    ⋮              ⋮                 ⋮    ⋮               ⋮     \n",
       "4978 Urban          191.15            31.1 smokes          0     \n",
       "4979 Rural           95.02            31.8 smokes          0     \n",
       "4980 Rural           83.94            30.0 smokes          0     \n",
       "4981 Urban           83.75            29.1 never smoked    0     "
      ]
     },
     "metadata": {},
     "output_type": "display_data"
    }
   ],
   "source": [
    "brainstroke_data <- read_csv(\"https://drive.google.com/uc?export=download&id=1yBiO_qBE9_YBvnEyPe2bazH5ZCOBb1d6\")\n",
    "\n",
    "brainstroke_data"
   ]
  },
  {
   "cell_type": "markdown",
   "id": "b3129ae1-ef58-41f9-aa47-6b2abeb45a36",
   "metadata": {},
   "source": [
    "The original data set contains variables such as marriage status (ever_married) that intuitively won't be useful in our analysis so it is taken out. Categorical variables that are in the \"chr\" format was changed to \"fct\" so that we can compute functions more easily later. The BMI variable was renamed so that it is more clear what the acronym stands for. \n"
   ]
  },
  {
   "cell_type": "code",
   "execution_count": 10,
   "id": "689c8dab-e4ba-41ee-9027-718c0c1344ad",
   "metadata": {},
   "outputs": [
    {
     "data": {
      "text/html": [
       "<table class=\"dataframe\">\n",
       "<caption>A tibble: 4981 × 10</caption>\n",
       "<thead>\n",
       "\t<tr><th scope=col>gender</th><th scope=col>age</th><th scope=col>hypertension</th><th scope=col>heart_disease</th><th scope=col>work_type</th><th scope=col>Residence_type</th><th scope=col>avg_glucose_level</th><th scope=col>body_mass_index</th><th scope=col>smoking_status</th><th scope=col>stroke</th></tr>\n",
       "\t<tr><th scope=col>&lt;fct&gt;</th><th scope=col>&lt;dbl&gt;</th><th scope=col>&lt;fct&gt;</th><th scope=col>&lt;fct&gt;</th><th scope=col>&lt;fct&gt;</th><th scope=col>&lt;fct&gt;</th><th scope=col>&lt;dbl&gt;</th><th scope=col>&lt;dbl&gt;</th><th scope=col>&lt;fct&gt;</th><th scope=col>&lt;fct&gt;</th></tr>\n",
       "</thead>\n",
       "<tbody>\n",
       "\t<tr><td>Male  </td><td>67</td><td>0</td><td>1</td><td>Private      </td><td>Urban</td><td>228.69</td><td>36.6</td><td>formerly smoked</td><td>1</td></tr>\n",
       "\t<tr><td>Male  </td><td>80</td><td>0</td><td>1</td><td>Private      </td><td>Rural</td><td>105.92</td><td>32.5</td><td>never smoked   </td><td>1</td></tr>\n",
       "\t<tr><td>Female</td><td>49</td><td>0</td><td>0</td><td>Private      </td><td>Urban</td><td>171.23</td><td>34.4</td><td>smokes         </td><td>1</td></tr>\n",
       "\t<tr><td>Female</td><td>79</td><td>1</td><td>0</td><td>Self-employed</td><td>Rural</td><td>174.12</td><td>24.0</td><td>never smoked   </td><td>1</td></tr>\n",
       "\t<tr><td>⋮</td><td>⋮</td><td>⋮</td><td>⋮</td><td>⋮</td><td>⋮</td><td>⋮</td><td>⋮</td><td>⋮</td><td>⋮</td></tr>\n",
       "\t<tr><td>Male  </td><td>40</td><td>0</td><td>0</td><td>Private </td><td>Urban</td><td>191.15</td><td>31.1</td><td>smokes      </td><td>0</td></tr>\n",
       "\t<tr><td>Female</td><td>45</td><td>1</td><td>0</td><td>Govt_job</td><td>Rural</td><td> 95.02</td><td>31.8</td><td>smokes      </td><td>0</td></tr>\n",
       "\t<tr><td>Male  </td><td>40</td><td>0</td><td>0</td><td>Private </td><td>Rural</td><td> 83.94</td><td>30.0</td><td>smokes      </td><td>0</td></tr>\n",
       "\t<tr><td>Female</td><td>80</td><td>1</td><td>0</td><td>Private </td><td>Urban</td><td> 83.75</td><td>29.1</td><td>never smoked</td><td>0</td></tr>\n",
       "</tbody>\n",
       "</table>\n"
      ],
      "text/latex": [
       "A tibble: 4981 × 10\n",
       "\\begin{tabular}{llllllllll}\n",
       " gender & age & hypertension & heart\\_disease & work\\_type & Residence\\_type & avg\\_glucose\\_level & body\\_mass\\_index & smoking\\_status & stroke\\\\\n",
       " <fct> & <dbl> & <fct> & <fct> & <fct> & <fct> & <dbl> & <dbl> & <fct> & <fct>\\\\\n",
       "\\hline\n",
       "\t Male   & 67 & 0 & 1 & Private       & Urban & 228.69 & 36.6 & formerly smoked & 1\\\\\n",
       "\t Male   & 80 & 0 & 1 & Private       & Rural & 105.92 & 32.5 & never smoked    & 1\\\\\n",
       "\t Female & 49 & 0 & 0 & Private       & Urban & 171.23 & 34.4 & smokes          & 1\\\\\n",
       "\t Female & 79 & 1 & 0 & Self-employed & Rural & 174.12 & 24.0 & never smoked    & 1\\\\\n",
       "\t ⋮ & ⋮ & ⋮ & ⋮ & ⋮ & ⋮ & ⋮ & ⋮ & ⋮ & ⋮\\\\\n",
       "\t Male   & 40 & 0 & 0 & Private  & Urban & 191.15 & 31.1 & smokes       & 0\\\\\n",
       "\t Female & 45 & 1 & 0 & Govt\\_job & Rural &  95.02 & 31.8 & smokes       & 0\\\\\n",
       "\t Male   & 40 & 0 & 0 & Private  & Rural &  83.94 & 30.0 & smokes       & 0\\\\\n",
       "\t Female & 80 & 1 & 0 & Private  & Urban &  83.75 & 29.1 & never smoked & 0\\\\\n",
       "\\end{tabular}\n"
      ],
      "text/markdown": [
       "\n",
       "A tibble: 4981 × 10\n",
       "\n",
       "| gender &lt;fct&gt; | age &lt;dbl&gt; | hypertension &lt;fct&gt; | heart_disease &lt;fct&gt; | work_type &lt;fct&gt; | Residence_type &lt;fct&gt; | avg_glucose_level &lt;dbl&gt; | body_mass_index &lt;dbl&gt; | smoking_status &lt;fct&gt; | stroke &lt;fct&gt; |\n",
       "|---|---|---|---|---|---|---|---|---|---|\n",
       "| Male   | 67 | 0 | 1 | Private       | Urban | 228.69 | 36.6 | formerly smoked | 1 |\n",
       "| Male   | 80 | 0 | 1 | Private       | Rural | 105.92 | 32.5 | never smoked    | 1 |\n",
       "| Female | 49 | 0 | 0 | Private       | Urban | 171.23 | 34.4 | smokes          | 1 |\n",
       "| Female | 79 | 1 | 0 | Self-employed | Rural | 174.12 | 24.0 | never smoked    | 1 |\n",
       "| ⋮ | ⋮ | ⋮ | ⋮ | ⋮ | ⋮ | ⋮ | ⋮ | ⋮ | ⋮ |\n",
       "| Male   | 40 | 0 | 0 | Private  | Urban | 191.15 | 31.1 | smokes       | 0 |\n",
       "| Female | 45 | 1 | 0 | Govt_job | Rural |  95.02 | 31.8 | smokes       | 0 |\n",
       "| Male   | 40 | 0 | 0 | Private  | Rural |  83.94 | 30.0 | smokes       | 0 |\n",
       "| Female | 80 | 1 | 0 | Private  | Urban |  83.75 | 29.1 | never smoked | 0 |\n",
       "\n"
      ],
      "text/plain": [
       "     gender age hypertension heart_disease work_type     Residence_type\n",
       "1    Male   67  0            1             Private       Urban         \n",
       "2    Male   80  0            1             Private       Rural         \n",
       "3    Female 49  0            0             Private       Urban         \n",
       "4    Female 79  1            0             Self-employed Rural         \n",
       "⋮    ⋮      ⋮   ⋮            ⋮             ⋮             ⋮             \n",
       "4978 Male   40  0            0             Private       Urban         \n",
       "4979 Female 45  1            0             Govt_job      Rural         \n",
       "4980 Male   40  0            0             Private       Rural         \n",
       "4981 Female 80  1            0             Private       Urban         \n",
       "     avg_glucose_level body_mass_index smoking_status  stroke\n",
       "1    228.69            36.6            formerly smoked 1     \n",
       "2    105.92            32.5            never smoked    1     \n",
       "3    171.23            34.4            smokes          1     \n",
       "4    174.12            24.0            never smoked    1     \n",
       "⋮    ⋮                 ⋮               ⋮               ⋮     \n",
       "4978 191.15            31.1            smokes          0     \n",
       "4979  95.02            31.8            smokes          0     \n",
       "4980  83.94            30.0            smokes          0     \n",
       "4981  83.75            29.1            never smoked    0     "
      ]
     },
     "metadata": {},
     "output_type": "display_data"
    }
   ],
   "source": [
    "brainstroke_data_v1 <- brainstroke_data |> \n",
    "    mutate(across(c(gender, hypertension:Residence_type, smoking_status:stroke),\n",
    "                  as_factor)) |>\n",
    "    select(1:4, 6:11)\n",
    "\n",
    "colnames(brainstroke_data_v1)[8] <- 'body_mass_index'\n",
    "\n",
    "brainstroke_data_v1"
   ]
  },
  {
   "cell_type": "markdown",
   "id": "f86e63ee-be7d-4147-871c-5e8127436bd3",
   "metadata": {},
   "source": [
    "Next, we checked for missing data so that we can exclude those observations in our data analysis. Luckily, the data set does not include any missing data. "
   ]
  },
  {
   "cell_type": "code",
   "execution_count": 11,
   "id": "4c8d50e5-d03d-4641-8bce-c9af67d50fdf",
   "metadata": {},
   "outputs": [
    {
     "data": {
      "text/html": [
       "<table class=\"dataframe\">\n",
       "<caption>A tibble: 1 × 10</caption>\n",
       "<thead>\n",
       "\t<tr><th scope=col>gender</th><th scope=col>age</th><th scope=col>hypertension</th><th scope=col>heart_disease</th><th scope=col>work_type</th><th scope=col>Residence_type</th><th scope=col>avg_glucose_level</th><th scope=col>body_mass_index</th><th scope=col>smoking_status</th><th scope=col>stroke</th></tr>\n",
       "\t<tr><th scope=col>&lt;int&gt;</th><th scope=col>&lt;int&gt;</th><th scope=col>&lt;int&gt;</th><th scope=col>&lt;int&gt;</th><th scope=col>&lt;int&gt;</th><th scope=col>&lt;int&gt;</th><th scope=col>&lt;int&gt;</th><th scope=col>&lt;int&gt;</th><th scope=col>&lt;int&gt;</th><th scope=col>&lt;int&gt;</th></tr>\n",
       "</thead>\n",
       "<tbody>\n",
       "\t<tr><td>0</td><td>0</td><td>0</td><td>0</td><td>0</td><td>0</td><td>0</td><td>0</td><td>0</td><td>0</td></tr>\n",
       "</tbody>\n",
       "</table>\n"
      ],
      "text/latex": [
       "A tibble: 1 × 10\n",
       "\\begin{tabular}{llllllllll}\n",
       " gender & age & hypertension & heart\\_disease & work\\_type & Residence\\_type & avg\\_glucose\\_level & body\\_mass\\_index & smoking\\_status & stroke\\\\\n",
       " <int> & <int> & <int> & <int> & <int> & <int> & <int> & <int> & <int> & <int>\\\\\n",
       "\\hline\n",
       "\t 0 & 0 & 0 & 0 & 0 & 0 & 0 & 0 & 0 & 0\\\\\n",
       "\\end{tabular}\n"
      ],
      "text/markdown": [
       "\n",
       "A tibble: 1 × 10\n",
       "\n",
       "| gender &lt;int&gt; | age &lt;int&gt; | hypertension &lt;int&gt; | heart_disease &lt;int&gt; | work_type &lt;int&gt; | Residence_type &lt;int&gt; | avg_glucose_level &lt;int&gt; | body_mass_index &lt;int&gt; | smoking_status &lt;int&gt; | stroke &lt;int&gt; |\n",
       "|---|---|---|---|---|---|---|---|---|---|\n",
       "| 0 | 0 | 0 | 0 | 0 | 0 | 0 | 0 | 0 | 0 |\n",
       "\n"
      ],
      "text/plain": [
       "  gender age hypertension heart_disease work_type Residence_type\n",
       "1 0      0   0            0             0         0             \n",
       "  avg_glucose_level body_mass_index smoking_status stroke\n",
       "1 0                 0               0              0     "
      ]
     },
     "metadata": {},
     "output_type": "display_data"
    }
   ],
   "source": [
    "not_available <- brainstroke_data_v1 |>\n",
    "    summarize(across(everything(), ~ sum(is.na(.))))\n",
    "not_available"
   ]
  },
  {
   "cell_type": "markdown",
   "id": "c927ab90-9c68-45e1-b0e3-ee978e685f41",
   "metadata": {},
   "source": [
    "The first summary that was performed was to calculate the proportions of the class labels in the stroke variable so that we can check if the classes are balanced. As shown in the table, there are 4733 observations that did not get a stroke versus 248 observations that did get a stroke. The ratio of observations in stroke is about 1:20 which is extremely imbalanced. This is very likely to cause problems in KNN classification. "
   ]
  },
  {
   "cell_type": "code",
   "execution_count": 15,
   "id": "fd091cbf-5f14-4f8a-b39f-e7e461431f96",
   "metadata": {},
   "outputs": [
    {
     "data": {
      "text/html": [
       "<table class=\"dataframe\">\n",
       "<caption>A tibble: 2 × 3</caption>\n",
       "<thead>\n",
       "\t<tr><th scope=col>stroke</th><th scope=col>stroke_count</th><th scope=col>percentage</th></tr>\n",
       "\t<tr><th scope=col>&lt;fct&gt;</th><th scope=col>&lt;int&gt;</th><th scope=col>&lt;dbl&gt;</th></tr>\n",
       "</thead>\n",
       "<tbody>\n",
       "\t<tr><td>0</td><td>4733</td><td>95.02</td></tr>\n",
       "\t<tr><td>1</td><td> 248</td><td> 4.98</td></tr>\n",
       "</tbody>\n",
       "</table>\n"
      ],
      "text/latex": [
       "A tibble: 2 × 3\n",
       "\\begin{tabular}{lll}\n",
       " stroke & stroke\\_count & percentage\\\\\n",
       " <fct> & <int> & <dbl>\\\\\n",
       "\\hline\n",
       "\t 0 & 4733 & 95.02\\\\\n",
       "\t 1 &  248 &  4.98\\\\\n",
       "\\end{tabular}\n"
      ],
      "text/markdown": [
       "\n",
       "A tibble: 2 × 3\n",
       "\n",
       "| stroke &lt;fct&gt; | stroke_count &lt;int&gt; | percentage &lt;dbl&gt; |\n",
       "|---|---|---|\n",
       "| 0 | 4733 | 95.02 |\n",
       "| 1 |  248 |  4.98 |\n",
       "\n"
      ],
      "text/plain": [
       "  stroke stroke_count percentage\n",
       "1 0      4733         95.02     \n",
       "2 1       248          4.98     "
      ]
     },
     "metadata": {},
     "output_type": "display_data"
    }
   ],
   "source": [
    "total_obs <- nrow(brainstroke_data_v1)\n",
    "\n",
    "stroke_proportions <- brainstroke_data_v1 |>\n",
    "    group_by(stroke) |>\n",
    "    summarize(stroke_count = n(),\n",
    "              percentage = round((stroke_count / total_obs) * 100, 2))\n",
    "\n",
    "stroke_proportions"
   ]
  },
  {
   "cell_type": "markdown",
   "id": "3648f312-9bff-409c-8cae-b2b13a33eade",
   "metadata": {},
   "source": [
    "To resolve this problem, we oversampled the rare class, which is the group that got a stroke. As shown, the classes are now more balanced. However, there may be the issue of overfitting the model to the data because it increases the number of observations in the class that does have a stroke. Thus, cross-validation may not work as well and this should be noted for future research to use a more balanced dataset. "
   ]
  },
  {
   "cell_type": "code",
   "execution_count": 16,
   "id": "5065da0e-9003-4251-b2c5-f757d8eef3a7",
   "metadata": {},
   "outputs": [],
   "source": [
    "#input code for upsample"
   ]
  },
  {
   "cell_type": "code",
   "execution_count": null,
   "id": "814174c9-6d1b-4b17-aa9f-8df005e2ea8d",
   "metadata": {},
   "outputs": [],
   "source": []
  }
 ],
 "metadata": {
  "kernelspec": {
   "display_name": "R",
   "language": "R",
   "name": "ir"
  },
  "language_info": {
   "codemirror_mode": "r",
   "file_extension": ".r",
   "mimetype": "text/x-r-source",
   "name": "R",
   "pygments_lexer": "r",
   "version": "4.1.3"
  }
 },
 "nbformat": 4,
 "nbformat_minor": 5
}
