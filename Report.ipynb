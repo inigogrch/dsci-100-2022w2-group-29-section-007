{
 "cells": [
  {
   "cell_type": "markdown",
   "id": "bf9a8bd1-5674-4e81-8830-14f313250d9c",
   "metadata": {},
   "source": [
    "# KNN Classification Analysis of Stroke Prediction "
   ]
  },
  {
   "cell_type": "code",
   "execution_count": 41,
   "id": "6e0349cb-282a-44a6-8701-13275cd136b2",
   "metadata": {},
   "outputs": [
    {
     "name": "stderr",
     "output_type": "stream",
     "text": [
      "Updating HTML index of packages in '.Library'\n",
      "\n",
      "Making 'packages.html' ...\n",
      " done\n",
      "\n"
     ]
    }
   ],
   "source": [
    "library(tidyverse)\n",
    "library(repr)\n",
    "library(dplyr)\n",
    "library(tidymodels)\n",
    "install.packages(\"themis\")\n",
    "library(themis)\n",
    "\n",
    "set.seed(2023)\n",
    "options(repr.matrix.max.rows = 8) "
   ]
  },
  {
   "cell_type": "markdown",
   "id": "41d0eca7-cafd-449e-ae3f-a2d2cbede23e",
   "metadata": {},
   "source": [
    "## Introduction\n",
    "\n",
    "\"insert introduction\""
   ]
  },
  {
   "cell_type": "markdown",
   "id": "a703e0f5-c083-49b2-bdfa-e2d293c54d21",
   "metadata": {},
   "source": [
    "## <br> Cleaning & Wrangling the Data"
   ]
  },
  {
   "cell_type": "markdown",
   "id": "022dd8bd-b9ea-4a43-8eac-e0797e1a4494",
   "metadata": {},
   "source": [
    "First, the data set was uploaded onto Google Drive and read into R using the URL link.\n"
   ]
  },
  {
   "cell_type": "code",
   "execution_count": 42,
   "id": "3e28ebf6-86cb-4fc6-bd1d-41b493be5adc",
   "metadata": {},
   "outputs": [
    {
     "name": "stderr",
     "output_type": "stream",
     "text": [
      "\u001b[1mRows: \u001b[22m\u001b[34m4981\u001b[39m \u001b[1mColumns: \u001b[22m\u001b[34m11\u001b[39m\n",
      "\u001b[36m──\u001b[39m \u001b[1mColumn specification\u001b[22m \u001b[36m────────────────────────────────────────────────────────\u001b[39m\n",
      "\u001b[1mDelimiter:\u001b[22m \",\"\n",
      "\u001b[31mchr\u001b[39m (5): gender, ever_married, work_type, Residence_type, smoking_status\n",
      "\u001b[32mdbl\u001b[39m (6): age, hypertension, heart_disease, avg_glucose_level, bmi, stroke\n",
      "\n",
      "\u001b[36mℹ\u001b[39m Use `spec()` to retrieve the full column specification for this data.\n",
      "\u001b[36mℹ\u001b[39m Specify the column types or set `show_col_types = FALSE` to quiet this message.\n"
     ]
    }
   ],
   "source": [
    "brainstroke_data <- read_csv(\"https://drive.google.com/uc?export=download&id=1yBiO_qBE9_YBvnEyPe2bazH5ZCOBb1d6\")"
   ]
  },
  {
   "cell_type": "markdown",
   "id": "81484072-803e-4c03-998e-078c45d6620a",
   "metadata": {},
   "source": [
    "##### Table 1. Stroke Data Set Preview"
   ]
  },
  {
   "cell_type": "code",
   "execution_count": 43,
   "id": "146ad44f-fea4-4baa-a6a7-551bc4f539b9",
   "metadata": {},
   "outputs": [
    {
     "data": {
      "text/html": [
       "<table class=\"dataframe\">\n",
       "<caption>A spec_tbl_df: 4981 × 11</caption>\n",
       "<thead>\n",
       "\t<tr><th scope=col>gender</th><th scope=col>age</th><th scope=col>hypertension</th><th scope=col>heart_disease</th><th scope=col>ever_married</th><th scope=col>work_type</th><th scope=col>Residence_type</th><th scope=col>avg_glucose_level</th><th scope=col>bmi</th><th scope=col>smoking_status</th><th scope=col>stroke</th></tr>\n",
       "\t<tr><th scope=col>&lt;chr&gt;</th><th scope=col>&lt;dbl&gt;</th><th scope=col>&lt;dbl&gt;</th><th scope=col>&lt;dbl&gt;</th><th scope=col>&lt;chr&gt;</th><th scope=col>&lt;chr&gt;</th><th scope=col>&lt;chr&gt;</th><th scope=col>&lt;dbl&gt;</th><th scope=col>&lt;dbl&gt;</th><th scope=col>&lt;chr&gt;</th><th scope=col>&lt;dbl&gt;</th></tr>\n",
       "</thead>\n",
       "<tbody>\n",
       "\t<tr><td>Male  </td><td>67</td><td>0</td><td>1</td><td>Yes</td><td>Private      </td><td>Urban</td><td>228.69</td><td>36.6</td><td>formerly smoked</td><td>1</td></tr>\n",
       "\t<tr><td>Male  </td><td>80</td><td>0</td><td>1</td><td>Yes</td><td>Private      </td><td>Rural</td><td>105.92</td><td>32.5</td><td>never smoked   </td><td>1</td></tr>\n",
       "\t<tr><td>Female</td><td>49</td><td>0</td><td>0</td><td>Yes</td><td>Private      </td><td>Urban</td><td>171.23</td><td>34.4</td><td>smokes         </td><td>1</td></tr>\n",
       "\t<tr><td>Female</td><td>79</td><td>1</td><td>0</td><td>Yes</td><td>Self-employed</td><td>Rural</td><td>174.12</td><td>24.0</td><td>never smoked   </td><td>1</td></tr>\n",
       "\t<tr><td>⋮</td><td>⋮</td><td>⋮</td><td>⋮</td><td>⋮</td><td>⋮</td><td>⋮</td><td>⋮</td><td>⋮</td><td>⋮</td><td>⋮</td></tr>\n",
       "\t<tr><td>Male  </td><td>40</td><td>0</td><td>0</td><td>Yes</td><td>Private </td><td>Urban</td><td>191.15</td><td>31.1</td><td>smokes      </td><td>0</td></tr>\n",
       "\t<tr><td>Female</td><td>45</td><td>1</td><td>0</td><td>Yes</td><td>Govt_job</td><td>Rural</td><td> 95.02</td><td>31.8</td><td>smokes      </td><td>0</td></tr>\n",
       "\t<tr><td>Male  </td><td>40</td><td>0</td><td>0</td><td>Yes</td><td>Private </td><td>Rural</td><td> 83.94</td><td>30.0</td><td>smokes      </td><td>0</td></tr>\n",
       "\t<tr><td>Female</td><td>80</td><td>1</td><td>0</td><td>Yes</td><td>Private </td><td>Urban</td><td> 83.75</td><td>29.1</td><td>never smoked</td><td>0</td></tr>\n",
       "</tbody>\n",
       "</table>\n"
      ],
      "text/latex": [
       "A spec\\_tbl\\_df: 4981 × 11\n",
       "\\begin{tabular}{lllllllllll}\n",
       " gender & age & hypertension & heart\\_disease & ever\\_married & work\\_type & Residence\\_type & avg\\_glucose\\_level & bmi & smoking\\_status & stroke\\\\\n",
       " <chr> & <dbl> & <dbl> & <dbl> & <chr> & <chr> & <chr> & <dbl> & <dbl> & <chr> & <dbl>\\\\\n",
       "\\hline\n",
       "\t Male   & 67 & 0 & 1 & Yes & Private       & Urban & 228.69 & 36.6 & formerly smoked & 1\\\\\n",
       "\t Male   & 80 & 0 & 1 & Yes & Private       & Rural & 105.92 & 32.5 & never smoked    & 1\\\\\n",
       "\t Female & 49 & 0 & 0 & Yes & Private       & Urban & 171.23 & 34.4 & smokes          & 1\\\\\n",
       "\t Female & 79 & 1 & 0 & Yes & Self-employed & Rural & 174.12 & 24.0 & never smoked    & 1\\\\\n",
       "\t ⋮ & ⋮ & ⋮ & ⋮ & ⋮ & ⋮ & ⋮ & ⋮ & ⋮ & ⋮ & ⋮\\\\\n",
       "\t Male   & 40 & 0 & 0 & Yes & Private  & Urban & 191.15 & 31.1 & smokes       & 0\\\\\n",
       "\t Female & 45 & 1 & 0 & Yes & Govt\\_job & Rural &  95.02 & 31.8 & smokes       & 0\\\\\n",
       "\t Male   & 40 & 0 & 0 & Yes & Private  & Rural &  83.94 & 30.0 & smokes       & 0\\\\\n",
       "\t Female & 80 & 1 & 0 & Yes & Private  & Urban &  83.75 & 29.1 & never smoked & 0\\\\\n",
       "\\end{tabular}\n"
      ],
      "text/markdown": [
       "\n",
       "A spec_tbl_df: 4981 × 11\n",
       "\n",
       "| gender &lt;chr&gt; | age &lt;dbl&gt; | hypertension &lt;dbl&gt; | heart_disease &lt;dbl&gt; | ever_married &lt;chr&gt; | work_type &lt;chr&gt; | Residence_type &lt;chr&gt; | avg_glucose_level &lt;dbl&gt; | bmi &lt;dbl&gt; | smoking_status &lt;chr&gt; | stroke &lt;dbl&gt; |\n",
       "|---|---|---|---|---|---|---|---|---|---|---|\n",
       "| Male   | 67 | 0 | 1 | Yes | Private       | Urban | 228.69 | 36.6 | formerly smoked | 1 |\n",
       "| Male   | 80 | 0 | 1 | Yes | Private       | Rural | 105.92 | 32.5 | never smoked    | 1 |\n",
       "| Female | 49 | 0 | 0 | Yes | Private       | Urban | 171.23 | 34.4 | smokes          | 1 |\n",
       "| Female | 79 | 1 | 0 | Yes | Self-employed | Rural | 174.12 | 24.0 | never smoked    | 1 |\n",
       "| ⋮ | ⋮ | ⋮ | ⋮ | ⋮ | ⋮ | ⋮ | ⋮ | ⋮ | ⋮ | ⋮ |\n",
       "| Male   | 40 | 0 | 0 | Yes | Private  | Urban | 191.15 | 31.1 | smokes       | 0 |\n",
       "| Female | 45 | 1 | 0 | Yes | Govt_job | Rural |  95.02 | 31.8 | smokes       | 0 |\n",
       "| Male   | 40 | 0 | 0 | Yes | Private  | Rural |  83.94 | 30.0 | smokes       | 0 |\n",
       "| Female | 80 | 1 | 0 | Yes | Private  | Urban |  83.75 | 29.1 | never smoked | 0 |\n",
       "\n"
      ],
      "text/plain": [
       "     gender age hypertension heart_disease ever_married work_type    \n",
       "1    Male   67  0            1             Yes          Private      \n",
       "2    Male   80  0            1             Yes          Private      \n",
       "3    Female 49  0            0             Yes          Private      \n",
       "4    Female 79  1            0             Yes          Self-employed\n",
       "⋮    ⋮      ⋮   ⋮            ⋮             ⋮            ⋮            \n",
       "4978 Male   40  0            0             Yes          Private      \n",
       "4979 Female 45  1            0             Yes          Govt_job     \n",
       "4980 Male   40  0            0             Yes          Private      \n",
       "4981 Female 80  1            0             Yes          Private      \n",
       "     Residence_type avg_glucose_level bmi  smoking_status  stroke\n",
       "1    Urban          228.69            36.6 formerly smoked 1     \n",
       "2    Rural          105.92            32.5 never smoked    1     \n",
       "3    Urban          171.23            34.4 smokes          1     \n",
       "4    Rural          174.12            24.0 never smoked    1     \n",
       "⋮    ⋮              ⋮                 ⋮    ⋮               ⋮     \n",
       "4978 Urban          191.15            31.1 smokes          0     \n",
       "4979 Rural           95.02            31.8 smokes          0     \n",
       "4980 Rural           83.94            30.0 smokes          0     \n",
       "4981 Urban           83.75            29.1 never smoked    0     "
      ]
     },
     "metadata": {},
     "output_type": "display_data"
    }
   ],
   "source": [
    "brainstroke_data"
   ]
  },
  {
   "cell_type": "markdown",
   "id": "b3129ae1-ef58-41f9-aa47-6b2abeb45a36",
   "metadata": {},
   "source": [
    "<br>The original data set contains variables such as marriage status (ever_married) that intuitively won't be useful in our analysis so it is taken out. Categorical variables that are in the \"chr\" format was changed to \"fct\" so that we can compute functions more easily later. The BMI variable was renamed so that it is more clear what the acronym stands for. \n"
   ]
  },
  {
   "cell_type": "code",
   "execution_count": 44,
   "id": "689c8dab-e4ba-41ee-9027-718c0c1344ad",
   "metadata": {},
   "outputs": [],
   "source": [
    "brainstroke_data_v1 <- brainstroke_data |> \n",
    "    mutate(across(c(gender, hypertension:Residence_type, smoking_status:stroke),\n",
    "                  as_factor)) |>\n",
    "    select(1:4, 6:11)\n",
    "\n",
    "colnames(brainstroke_data_v1)[8] <- 'body_mass_index'"
   ]
  },
  {
   "cell_type": "markdown",
   "id": "0692e699-6455-478d-8a31-4d14917dde1a",
   "metadata": {},
   "source": [
    "##### Table 2. Cleaned Stroke Data Set "
   ]
  },
  {
   "cell_type": "code",
   "execution_count": 45,
   "id": "1845ac81-c828-4208-b93a-27f403eb41d6",
   "metadata": {},
   "outputs": [
    {
     "data": {
      "text/html": [
       "<table class=\"dataframe\">\n",
       "<caption>A tibble: 4981 × 10</caption>\n",
       "<thead>\n",
       "\t<tr><th scope=col>gender</th><th scope=col>age</th><th scope=col>hypertension</th><th scope=col>heart_disease</th><th scope=col>work_type</th><th scope=col>Residence_type</th><th scope=col>avg_glucose_level</th><th scope=col>body_mass_index</th><th scope=col>smoking_status</th><th scope=col>stroke</th></tr>\n",
       "\t<tr><th scope=col>&lt;fct&gt;</th><th scope=col>&lt;dbl&gt;</th><th scope=col>&lt;fct&gt;</th><th scope=col>&lt;fct&gt;</th><th scope=col>&lt;fct&gt;</th><th scope=col>&lt;fct&gt;</th><th scope=col>&lt;dbl&gt;</th><th scope=col>&lt;dbl&gt;</th><th scope=col>&lt;fct&gt;</th><th scope=col>&lt;fct&gt;</th></tr>\n",
       "</thead>\n",
       "<tbody>\n",
       "\t<tr><td>Male  </td><td>67</td><td>0</td><td>1</td><td>Private      </td><td>Urban</td><td>228.69</td><td>36.6</td><td>formerly smoked</td><td>1</td></tr>\n",
       "\t<tr><td>Male  </td><td>80</td><td>0</td><td>1</td><td>Private      </td><td>Rural</td><td>105.92</td><td>32.5</td><td>never smoked   </td><td>1</td></tr>\n",
       "\t<tr><td>Female</td><td>49</td><td>0</td><td>0</td><td>Private      </td><td>Urban</td><td>171.23</td><td>34.4</td><td>smokes         </td><td>1</td></tr>\n",
       "\t<tr><td>Female</td><td>79</td><td>1</td><td>0</td><td>Self-employed</td><td>Rural</td><td>174.12</td><td>24.0</td><td>never smoked   </td><td>1</td></tr>\n",
       "\t<tr><td>⋮</td><td>⋮</td><td>⋮</td><td>⋮</td><td>⋮</td><td>⋮</td><td>⋮</td><td>⋮</td><td>⋮</td><td>⋮</td></tr>\n",
       "\t<tr><td>Male  </td><td>40</td><td>0</td><td>0</td><td>Private </td><td>Urban</td><td>191.15</td><td>31.1</td><td>smokes      </td><td>0</td></tr>\n",
       "\t<tr><td>Female</td><td>45</td><td>1</td><td>0</td><td>Govt_job</td><td>Rural</td><td> 95.02</td><td>31.8</td><td>smokes      </td><td>0</td></tr>\n",
       "\t<tr><td>Male  </td><td>40</td><td>0</td><td>0</td><td>Private </td><td>Rural</td><td> 83.94</td><td>30.0</td><td>smokes      </td><td>0</td></tr>\n",
       "\t<tr><td>Female</td><td>80</td><td>1</td><td>0</td><td>Private </td><td>Urban</td><td> 83.75</td><td>29.1</td><td>never smoked</td><td>0</td></tr>\n",
       "</tbody>\n",
       "</table>\n"
      ],
      "text/latex": [
       "A tibble: 4981 × 10\n",
       "\\begin{tabular}{llllllllll}\n",
       " gender & age & hypertension & heart\\_disease & work\\_type & Residence\\_type & avg\\_glucose\\_level & body\\_mass\\_index & smoking\\_status & stroke\\\\\n",
       " <fct> & <dbl> & <fct> & <fct> & <fct> & <fct> & <dbl> & <dbl> & <fct> & <fct>\\\\\n",
       "\\hline\n",
       "\t Male   & 67 & 0 & 1 & Private       & Urban & 228.69 & 36.6 & formerly smoked & 1\\\\\n",
       "\t Male   & 80 & 0 & 1 & Private       & Rural & 105.92 & 32.5 & never smoked    & 1\\\\\n",
       "\t Female & 49 & 0 & 0 & Private       & Urban & 171.23 & 34.4 & smokes          & 1\\\\\n",
       "\t Female & 79 & 1 & 0 & Self-employed & Rural & 174.12 & 24.0 & never smoked    & 1\\\\\n",
       "\t ⋮ & ⋮ & ⋮ & ⋮ & ⋮ & ⋮ & ⋮ & ⋮ & ⋮ & ⋮\\\\\n",
       "\t Male   & 40 & 0 & 0 & Private  & Urban & 191.15 & 31.1 & smokes       & 0\\\\\n",
       "\t Female & 45 & 1 & 0 & Govt\\_job & Rural &  95.02 & 31.8 & smokes       & 0\\\\\n",
       "\t Male   & 40 & 0 & 0 & Private  & Rural &  83.94 & 30.0 & smokes       & 0\\\\\n",
       "\t Female & 80 & 1 & 0 & Private  & Urban &  83.75 & 29.1 & never smoked & 0\\\\\n",
       "\\end{tabular}\n"
      ],
      "text/markdown": [
       "\n",
       "A tibble: 4981 × 10\n",
       "\n",
       "| gender &lt;fct&gt; | age &lt;dbl&gt; | hypertension &lt;fct&gt; | heart_disease &lt;fct&gt; | work_type &lt;fct&gt; | Residence_type &lt;fct&gt; | avg_glucose_level &lt;dbl&gt; | body_mass_index &lt;dbl&gt; | smoking_status &lt;fct&gt; | stroke &lt;fct&gt; |\n",
       "|---|---|---|---|---|---|---|---|---|---|\n",
       "| Male   | 67 | 0 | 1 | Private       | Urban | 228.69 | 36.6 | formerly smoked | 1 |\n",
       "| Male   | 80 | 0 | 1 | Private       | Rural | 105.92 | 32.5 | never smoked    | 1 |\n",
       "| Female | 49 | 0 | 0 | Private       | Urban | 171.23 | 34.4 | smokes          | 1 |\n",
       "| Female | 79 | 1 | 0 | Self-employed | Rural | 174.12 | 24.0 | never smoked    | 1 |\n",
       "| ⋮ | ⋮ | ⋮ | ⋮ | ⋮ | ⋮ | ⋮ | ⋮ | ⋮ | ⋮ |\n",
       "| Male   | 40 | 0 | 0 | Private  | Urban | 191.15 | 31.1 | smokes       | 0 |\n",
       "| Female | 45 | 1 | 0 | Govt_job | Rural |  95.02 | 31.8 | smokes       | 0 |\n",
       "| Male   | 40 | 0 | 0 | Private  | Rural |  83.94 | 30.0 | smokes       | 0 |\n",
       "| Female | 80 | 1 | 0 | Private  | Urban |  83.75 | 29.1 | never smoked | 0 |\n",
       "\n"
      ],
      "text/plain": [
       "     gender age hypertension heart_disease work_type     Residence_type\n",
       "1    Male   67  0            1             Private       Urban         \n",
       "2    Male   80  0            1             Private       Rural         \n",
       "3    Female 49  0            0             Private       Urban         \n",
       "4    Female 79  1            0             Self-employed Rural         \n",
       "⋮    ⋮      ⋮   ⋮            ⋮             ⋮             ⋮             \n",
       "4978 Male   40  0            0             Private       Urban         \n",
       "4979 Female 45  1            0             Govt_job      Rural         \n",
       "4980 Male   40  0            0             Private       Rural         \n",
       "4981 Female 80  1            0             Private       Urban         \n",
       "     avg_glucose_level body_mass_index smoking_status  stroke\n",
       "1    228.69            36.6            formerly smoked 1     \n",
       "2    105.92            32.5            never smoked    1     \n",
       "3    171.23            34.4            smokes          1     \n",
       "4    174.12            24.0            never smoked    1     \n",
       "⋮    ⋮                 ⋮               ⋮               ⋮     \n",
       "4978 191.15            31.1            smokes          0     \n",
       "4979  95.02            31.8            smokes          0     \n",
       "4980  83.94            30.0            smokes          0     \n",
       "4981  83.75            29.1            never smoked    0     "
      ]
     },
     "metadata": {},
     "output_type": "display_data"
    }
   ],
   "source": [
    "brainstroke_data_v1"
   ]
  },
  {
   "cell_type": "markdown",
   "id": "f86e63ee-be7d-4147-871c-5e8127436bd3",
   "metadata": {},
   "source": [
    "<br> Next, we checked for missing data so that we can exclude those observations in our data analysis. Luckily, the data set does not include any missing data as shown in table 3. "
   ]
  },
  {
   "cell_type": "code",
   "execution_count": 46,
   "id": "4c8d50e5-d03d-4641-8bce-c9af67d50fdf",
   "metadata": {},
   "outputs": [],
   "source": [
    "not_available <- brainstroke_data_v1 |>\n",
    "    summarize(across(everything(), ~ sum(is.na(.))))"
   ]
  },
  {
   "cell_type": "markdown",
   "id": "f23ec883-fb0e-44a6-9ba9-efe45e879c82",
   "metadata": {},
   "source": [
    "##### Table 3. Missing Data "
   ]
  },
  {
   "cell_type": "code",
   "execution_count": 47,
   "id": "025e2005-979c-4954-ad98-2184770b7561",
   "metadata": {},
   "outputs": [
    {
     "data": {
      "text/html": [
       "<table class=\"dataframe\">\n",
       "<caption>A tibble: 1 × 10</caption>\n",
       "<thead>\n",
       "\t<tr><th scope=col>gender</th><th scope=col>age</th><th scope=col>hypertension</th><th scope=col>heart_disease</th><th scope=col>work_type</th><th scope=col>Residence_type</th><th scope=col>avg_glucose_level</th><th scope=col>body_mass_index</th><th scope=col>smoking_status</th><th scope=col>stroke</th></tr>\n",
       "\t<tr><th scope=col>&lt;int&gt;</th><th scope=col>&lt;int&gt;</th><th scope=col>&lt;int&gt;</th><th scope=col>&lt;int&gt;</th><th scope=col>&lt;int&gt;</th><th scope=col>&lt;int&gt;</th><th scope=col>&lt;int&gt;</th><th scope=col>&lt;int&gt;</th><th scope=col>&lt;int&gt;</th><th scope=col>&lt;int&gt;</th></tr>\n",
       "</thead>\n",
       "<tbody>\n",
       "\t<tr><td>0</td><td>0</td><td>0</td><td>0</td><td>0</td><td>0</td><td>0</td><td>0</td><td>0</td><td>0</td></tr>\n",
       "</tbody>\n",
       "</table>\n"
      ],
      "text/latex": [
       "A tibble: 1 × 10\n",
       "\\begin{tabular}{llllllllll}\n",
       " gender & age & hypertension & heart\\_disease & work\\_type & Residence\\_type & avg\\_glucose\\_level & body\\_mass\\_index & smoking\\_status & stroke\\\\\n",
       " <int> & <int> & <int> & <int> & <int> & <int> & <int> & <int> & <int> & <int>\\\\\n",
       "\\hline\n",
       "\t 0 & 0 & 0 & 0 & 0 & 0 & 0 & 0 & 0 & 0\\\\\n",
       "\\end{tabular}\n"
      ],
      "text/markdown": [
       "\n",
       "A tibble: 1 × 10\n",
       "\n",
       "| gender &lt;int&gt; | age &lt;int&gt; | hypertension &lt;int&gt; | heart_disease &lt;int&gt; | work_type &lt;int&gt; | Residence_type &lt;int&gt; | avg_glucose_level &lt;int&gt; | body_mass_index &lt;int&gt; | smoking_status &lt;int&gt; | stroke &lt;int&gt; |\n",
       "|---|---|---|---|---|---|---|---|---|---|\n",
       "| 0 | 0 | 0 | 0 | 0 | 0 | 0 | 0 | 0 | 0 |\n",
       "\n"
      ],
      "text/plain": [
       "  gender age hypertension heart_disease work_type Residence_type\n",
       "1 0      0   0            0             0         0             \n",
       "  avg_glucose_level body_mass_index smoking_status stroke\n",
       "1 0                 0               0              0     "
      ]
     },
     "metadata": {},
     "output_type": "display_data"
    }
   ],
   "source": [
    "not_available"
   ]
  },
  {
   "cell_type": "markdown",
   "id": "c927ab90-9c68-45e1-b0e3-ee978e685f41",
   "metadata": {},
   "source": [
    "<br> The first summary that was performed was calculating the proportions of the class labels in the stroke variable to check if the classes are balanced. As shown in table 4, 4733 observations did not get a stroke versus 248 observations that did get a stroke. The ratio of observations in stroke is about 1:20 which is extremely imbalanced. This is very likely to cause problems in KNN classification because the algorithm is based on majority vote. "
   ]
  },
  {
   "cell_type": "code",
   "execution_count": 48,
   "id": "fd091cbf-5f14-4f8a-b39f-e7e461431f96",
   "metadata": {},
   "outputs": [],
   "source": [
    "total_obs <- nrow(brainstroke_data_v1)\n",
    "\n",
    "stroke_proportions <- brainstroke_data_v1 |>\n",
    "    group_by(stroke) |>\n",
    "    summarize(stroke_count = n(),\n",
    "              percentage = round((stroke_count / total_obs) * 100, 2))"
   ]
  },
  {
   "cell_type": "markdown",
   "id": "69f0eb6a-5a5f-46e7-a63f-5b45341e19da",
   "metadata": {},
   "source": [
    "##### Table 4. Proportion of Observations +/- Stroke "
   ]
  },
  {
   "cell_type": "code",
   "execution_count": 49,
   "id": "92ef12aa-847d-4cd4-98c5-18a262babb14",
   "metadata": {},
   "outputs": [
    {
     "data": {
      "text/html": [
       "<table class=\"dataframe\">\n",
       "<caption>A tibble: 2 × 3</caption>\n",
       "<thead>\n",
       "\t<tr><th scope=col>stroke</th><th scope=col>stroke_count</th><th scope=col>percentage</th></tr>\n",
       "\t<tr><th scope=col>&lt;fct&gt;</th><th scope=col>&lt;int&gt;</th><th scope=col>&lt;dbl&gt;</th></tr>\n",
       "</thead>\n",
       "<tbody>\n",
       "\t<tr><td>0</td><td>4733</td><td>95.02</td></tr>\n",
       "\t<tr><td>1</td><td> 248</td><td> 4.98</td></tr>\n",
       "</tbody>\n",
       "</table>\n"
      ],
      "text/latex": [
       "A tibble: 2 × 3\n",
       "\\begin{tabular}{lll}\n",
       " stroke & stroke\\_count & percentage\\\\\n",
       " <fct> & <int> & <dbl>\\\\\n",
       "\\hline\n",
       "\t 0 & 4733 & 95.02\\\\\n",
       "\t 1 &  248 &  4.98\\\\\n",
       "\\end{tabular}\n"
      ],
      "text/markdown": [
       "\n",
       "A tibble: 2 × 3\n",
       "\n",
       "| stroke &lt;fct&gt; | stroke_count &lt;int&gt; | percentage &lt;dbl&gt; |\n",
       "|---|---|---|\n",
       "| 0 | 4733 | 95.02 |\n",
       "| 1 |  248 |  4.98 |\n",
       "\n"
      ],
      "text/plain": [
       "  stroke stroke_count percentage\n",
       "1 0      4733         95.02     \n",
       "2 1       248          4.98     "
      ]
     },
     "metadata": {},
     "output_type": "display_data"
    }
   ],
   "source": [
    "stroke_proportions"
   ]
  },
  {
   "cell_type": "markdown",
   "id": "2b3fa484-925d-4db4-99dc-7d993ef3afa2",
   "metadata": {},
   "source": [
    "## <br> Selecting Predictor Variables "
   ]
  },
  {
   "cell_type": "markdown",
   "id": "29292822-d410-47cf-995d-74e795f0856e",
   "metadata": {},
   "source": [
    "The training data will be used to train our classifier and the testing data will be used to evaluate the accuracy of our classifier.  We chose to do a 75% to 25% training data to testing data split because we wanted to use more data to train for a more accurate model. The strata argument is set to the stroke variable so that there is an equal proportion of observations in each class that is assigned to each data set, so that there is a good representation of the original data set. Lastly, the analysis will be done with randomness via seeds (set at the top of the report) so that the data is still reproducible. \n"
   ]
  },
  {
   "cell_type": "code",
   "execution_count": 21,
   "id": "72874fdb-7f0d-40ae-94fb-78b94d92cfd5",
   "metadata": {},
   "outputs": [],
   "source": [
    "brainstroke_split <- initial_split(brainstroke_data_v1, prop = 0.75, strata = stroke)\n",
    "\n",
    "brainstroke_training <- training(brainstroke_split)\n",
    "brainstroke_testing <- testing(brainstroke_split)"
   ]
  },
  {
   "cell_type": "markdown",
   "id": "52bf41ec-0c14-493c-b0a9-ed5371579c16",
   "metadata": {},
   "source": [
    "<br> To see if there was a pattern in the numerical variables for observations in each category of the stroke variable, the average BMI, glucose level, and age of those with or without stroke was computed. As shown in the table below, there are differences between the mean values of all three variables, notably  glucose level and age. This is expected as these two have been recognized as risk factors for stroke in numerous studies (___). "
   ]
  },
  {
   "cell_type": "code",
   "execution_count": 50,
   "id": "03bcc976-561a-4931-9a27-afb85f339410",
   "metadata": {},
   "outputs": [],
   "source": [
    "stroke_bmi_gluc_age_avg <- brainstroke_training |>\n",
    "    group_by(stroke) |>\n",
    "    summarise(avg_bmi = round(mean(body_mass_index), 2),\n",
    "              avg_glucose = round(mean(avg_glucose_level), 2),\n",
    "              avg_age = round(mean(age), 2))"
   ]
  },
  {
   "cell_type": "markdown",
   "id": "0758f174-c043-4991-b18a-d161a0d9c489",
   "metadata": {},
   "source": [
    "##### Table 5. Average BMI, Glucose Level, and Age Separated by Stroke Condition "
   ]
  },
  {
   "cell_type": "code",
   "execution_count": 51,
   "id": "65d6b2b4-c10e-498c-9048-7bb4c624f88b",
   "metadata": {},
   "outputs": [
    {
     "data": {
      "text/html": [
       "<table class=\"dataframe\">\n",
       "<caption>A tibble: 2 × 4</caption>\n",
       "<thead>\n",
       "\t<tr><th scope=col>stroke</th><th scope=col>avg_bmi</th><th scope=col>avg_glucose</th><th scope=col>avg_age</th></tr>\n",
       "\t<tr><th scope=col>&lt;fct&gt;</th><th scope=col>&lt;dbl&gt;</th><th scope=col>&lt;dbl&gt;</th><th scope=col>&lt;dbl&gt;</th></tr>\n",
       "</thead>\n",
       "<tbody>\n",
       "\t<tr><td>0</td><td>28.38</td><td>104.39</td><td>42.18</td></tr>\n",
       "\t<tr><td>1</td><td>30.24</td><td>132.79</td><td>67.90</td></tr>\n",
       "</tbody>\n",
       "</table>\n"
      ],
      "text/latex": [
       "A tibble: 2 × 4\n",
       "\\begin{tabular}{llll}\n",
       " stroke & avg\\_bmi & avg\\_glucose & avg\\_age\\\\\n",
       " <fct> & <dbl> & <dbl> & <dbl>\\\\\n",
       "\\hline\n",
       "\t 0 & 28.38 & 104.39 & 42.18\\\\\n",
       "\t 1 & 30.24 & 132.79 & 67.90\\\\\n",
       "\\end{tabular}\n"
      ],
      "text/markdown": [
       "\n",
       "A tibble: 2 × 4\n",
       "\n",
       "| stroke &lt;fct&gt; | avg_bmi &lt;dbl&gt; | avg_glucose &lt;dbl&gt; | avg_age &lt;dbl&gt; |\n",
       "|---|---|---|---|\n",
       "| 0 | 28.38 | 104.39 | 42.18 |\n",
       "| 1 | 30.24 | 132.79 | 67.90 |\n",
       "\n"
      ],
      "text/plain": [
       "  stroke avg_bmi avg_glucose avg_age\n",
       "1 0      28.38   104.39      42.18  \n",
       "2 1      30.24   132.79      67.90  "
      ]
     },
     "metadata": {},
     "output_type": "display_data"
    }
   ],
   "source": [
    "stroke_bmi_gluc_age_avg"
   ]
  },
  {
   "cell_type": "markdown",
   "id": "5611e723-8b65-417e-bd35-1e10c7117952",
   "metadata": {},
   "source": [
    "<br> To confirm whether these 3 numerical variables will likely be useful for the classification, we compared how it interacts with the stroke condition in several visualizations. The first histogram shows the distribution of age distinguished in colour by the stroke condition. It shows that people who have had a stroke tend to be older whereas people who don’t have a stroke are of all ages. As we do see a trend in the stroke condition, this predictor variable will likely be useful in the classification.\n"
   ]
  },
  {
   "cell_type": "code",
   "execution_count": 54,
   "id": "1d40e843-e725-4b37-a687-a9f07b0f605b",
   "metadata": {},
   "outputs": [],
   "source": [
    "histogram_data <- brainstroke_training |>\n",
    "    mutate(stroke = recode(stroke, '0' = \"No\", '1' = \"Yes\"))\n",
    "    \n",
    "age_histogram_plot <- histogram_data |>\n",
    "    ggplot(aes(x = age, fill = stroke)) +\n",
    "    geom_histogram(bins = 15) +\n",
    "    xlab(\"Age of Individual (Years)\") +\n",
    "    ylab(\"Number of Individuals\") +\n",
    "    labs(fill = \"Has had a Stroke\") +\n",
    "    ggtitle(\"Distribution of Population Age\") +\n",
    "    theme(text = element_text(size=15))"
   ]
  },
  {
   "cell_type": "markdown",
   "id": "e229df22-3e96-4a93-a90b-ea37f752f175",
   "metadata": {},
   "source": [
    "##### Figure 1. Histogram of Population Age across Stroke Condition"
   ]
  },
  {
   "cell_type": "code",
   "execution_count": 53,
   "id": "2a4a8893-5890-43f0-9236-12933de27cd9",
   "metadata": {},
   "outputs": [
    {
     "data": {
      "image/png": "[encoded data removed]",
      "text/plain": [
       "plot without title"
      ]
     },
     "metadata": {
      "image/png": {
       "height": 420,
       "width": 420
      }
     },
     "output_type": "display_data"
    }
   ],
   "source": [
    "age_histogram_plot"
   ]
  },
  {
   "cell_type": "markdown",
   "id": "67ec27ec-4e0e-43f0-8826-2ce5d132cb61",
   "metadata": {},
   "source": [
    "<br>Next, we compared the distribution of BMI. There is no prominent observation of how BMI may affect the chances of getting a stroke as most of the observations that have had a stroke are across most BMI values. Thus, BMI will not be used as a predictor variable. \n"
   ]
  },
  {
   "cell_type": "code",
   "execution_count": 55,
   "id": "4d60d526-4f9c-4565-b3be-285dc76271e9",
   "metadata": {},
   "outputs": [],
   "source": [
    "bmi_histogram_plot <- histogram_data |>\n",
    "    ggplot(aes(x = body_mass_index, fill = stroke)) +\n",
    "    geom_histogram(bins = 25) +\n",
    "    xlab(\"BMI of Individual (kg/m^2)\") +\n",
    "    ylab(\"Number of Individuals\") +\n",
    "    labs(fill = \"Has had a Stroke\") +\n",
    "    ggtitle(\"Distribution of Population BMI\") +\n",
    "    theme(text = element_text(size=15))"
   ]
  },
  {
   "cell_type": "markdown",
   "id": "b9bc3fe0-13fd-4564-a796-5ebc1e4f6a0d",
   "metadata": {},
   "source": [
    "##### Figure 2. Histogram of Body Mass Index (BMI) across Stroke Condition"
   ]
  },
  {
   "cell_type": "code",
   "execution_count": 56,
   "id": "ff22f917-144e-4210-be4f-f221f3c3396b",
   "metadata": {},
   "outputs": [
    {
     "data": {
      "image/png": "[encoded data removed]",
      "text/plain": [
       "plot without title"
      ]
     },
     "metadata": {
      "image/png": {
       "height": 420,
       "width": 420
      }
     },
     "output_type": "display_data"
    }
   ],
   "source": [
    "bmi_histogram_plot"
   ]
  },
  {
   "cell_type": "markdown",
   "id": "0669c009-675c-47b1-b0b6-52655b49058b",
   "metadata": {},
   "source": [
    "<br>Finally, we compared the distribution of glucose levels. The values for the observations in the class label of people who have had a stroke gather outside of the safe zone of 120-180 (reference), at very low or very high glucose levels. However, we see this trend in the no-stroke condition as well. After checking the summarized data, the observations that got a stroke have a much higher average glucose level compared to the observations that did not get a stroke. In addition to previous studies that have indicated high glucose levels as a risk factor for stroke, this predictor variable may still be useful in the classification. "
   ]
  },
  {
   "cell_type": "code",
   "execution_count": 58,
   "id": "2b7ffddf-073b-4b2e-b53b-11aec892dafb",
   "metadata": {},
   "outputs": [],
   "source": [
    "glucose_histogram_plot <- histogram_data |>\n",
    "    ggplot(aes(x = avg_glucose_level, fill = stroke)) +\n",
    "    geom_histogram(bins = 15) +\n",
    "    xlab(\"Glucose Level (mg/dL)\") +\n",
    "    ylab(\"Number of Individuals\") +\n",
    "    labs(fill = \"Has had a Stroke\") +\n",
    "    ggtitle(\"Distribution of Population Glucose Levels\") +\n",
    "    theme(text = element_text(size=15))"
   ]
  },
  {
   "cell_type": "markdown",
   "id": "28467440-8adb-4656-99c4-8db4c00fb793",
   "metadata": {},
   "source": [
    "##### Figure 3. Histogram of Glucose Level across Stroke Condition"
   ]
  },
  {
   "cell_type": "code",
   "execution_count": 59,
   "id": "7cc4150e-df36-4bc3-816a-9352373b609a",
   "metadata": {},
   "outputs": [
    {
     "data": {
      "image/png": "[encoded data removed]",
      "text/plain": [
       "plot without title"
      ]
     },
     "metadata": {
      "image/png": {
       "height": 420,
       "width": 420
      }
     },
     "output_type": "display_data"
    }
   ],
   "source": [
    "glucose_histogram_plot"
   ]
  },
  {
   "cell_type": "markdown",
   "id": "ba9283a4-3110-48bb-873f-ccc26023e544",
   "metadata": {},
   "source": [
    "##### Table 6. Average Glucose Level Separated by Stroke Condition "
   ]
  },
  {
   "cell_type": "code",
   "execution_count": 60,
   "id": "cedcebab-94b6-40dc-8661-2f000a32365b",
   "metadata": {},
   "outputs": [
    {
     "data": {
      "text/html": [
       "<table class=\"dataframe\">\n",
       "<caption>A tibble: 2 × 2</caption>\n",
       "<thead>\n",
       "\t<tr><th scope=col>stroke</th><th scope=col>avg_glucose</th></tr>\n",
       "\t<tr><th scope=col>&lt;fct&gt;</th><th scope=col>&lt;dbl&gt;</th></tr>\n",
       "</thead>\n",
       "<tbody>\n",
       "\t<tr><td>0</td><td>104.39</td></tr>\n",
       "\t<tr><td>1</td><td>132.79</td></tr>\n",
       "</tbody>\n",
       "</table>\n"
      ],
      "text/latex": [
       "A tibble: 2 × 2\n",
       "\\begin{tabular}{ll}\n",
       " stroke & avg\\_glucose\\\\\n",
       " <fct> & <dbl>\\\\\n",
       "\\hline\n",
       "\t 0 & 104.39\\\\\n",
       "\t 1 & 132.79\\\\\n",
       "\\end{tabular}\n"
      ],
      "text/markdown": [
       "\n",
       "A tibble: 2 × 2\n",
       "\n",
       "| stroke &lt;fct&gt; | avg_glucose &lt;dbl&gt; |\n",
       "|---|---|\n",
       "| 0 | 104.39 |\n",
       "| 1 | 132.79 |\n",
       "\n"
      ],
      "text/plain": [
       "  stroke avg_glucose\n",
       "1 0      104.39     \n",
       "2 1      132.79     "
      ]
     },
     "metadata": {},
     "output_type": "display_data"
    }
   ],
   "source": [
    "select(stroke_bmi_gluc_age_avg, stroke, avg_glucose)"
   ]
  },
  {
   "cell_type": "markdown",
   "id": "a3587302-00b4-42aa-bac2-15104023eeb5",
   "metadata": {},
   "source": [
    "<br> Note: The categorical variables were not summarized because only the numerical variables were of interest since there is no distance to calculate between points with categorical variables. Thus, we can't use them in our classification algorithm explained below. \n"
   ]
  },
  {
   "cell_type": "markdown",
   "id": "8cebbb60-e6d2-4b0a-afbd-fc60690c6e28",
   "metadata": {},
   "source": [
    "## <br> Data Analysis\n",
    "Classification will be performed using the K-nearest-neighbor (KNN) algorithm. The target variable is the “stroke” column. As determined with the summary statistics and visualizations above, the predictor variables are <b> age and glucose levels. "
   ]
  },
  {
   "cell_type": "markdown",
   "id": "3648f312-9bff-409c-8cae-b2b13a33eade",
   "metadata": {},
   "source": [
    "To resolve the problem of class imbalance, we oversampled the rare class, which is the group that got a stroke. During this process, the preprocessing steps (scaling and centering the data) for all the variables were also completed."
   ]
  },
  {
   "cell_type": "code",
   "execution_count": 35,
   "id": "5065da0e-9003-4251-b2c5-f757d8eef3a7",
   "metadata": {},
   "outputs": [],
   "source": [
    "#input code for upsample which should be part of the recipe code"
   ]
  },
  {
   "cell_type": "markdown",
   "id": "760d5806-ccca-4696-b723-416846190125",
   "metadata": {},
   "source": [
    "<br> As shown, the classes are now more balanced. However, there may be the issue of overfitting the model to the data because it increases the number of observations in the class that does have a stroke. Thus, cross-validation may not work as well and this should be noted for future research to use a more balanced dataset. "
   ]
  },
  {
   "cell_type": "code",
   "execution_count": 34,
   "id": "3e99a953-9e57-4844-be46-56a044a8bf0d",
   "metadata": {},
   "outputs": [],
   "source": [
    "#code for balanced data confirmation "
   ]
  },
  {
   "cell_type": "markdown",
   "id": "3d0bc1bd-0447-41da-8890-fb06d5236941",
   "metadata": {},
   "source": [
    "<br> To tune our model, cross-validation was performed to choose the best K value. We chose to do a __ fold split in consideration of the computation time. We chose to standardize the data because we’re using multiple numerical variables and they may be on different scales which will affect how the KNN algorithm calculates the nearest distance.  "
   ]
  },
  {
   "cell_type": "code",
   "execution_count": 31,
   "id": "f4382a75-420f-4dea-9b79-2691b789bb5b",
   "metadata": {},
   "outputs": [],
   "source": [
    "#cross-validation code "
   ]
  },
  {
   "cell_type": "markdown",
   "id": "2f87ea9e-f591-44b1-8aac-5b4187f1de65",
   "metadata": {},
   "source": [
    "Then, a scatter plot was made to pick a K value that has a high accuracy estimate but also does not change its accuracy by much when we increase or decrease K to a nearby value. The K that fits this criterion is K= ____ with an accuracy of ___. "
   ]
  },
  {
   "cell_type": "code",
   "execution_count": 32,
   "id": "d2b2d742-47ee-446b-84b2-007d5e147c1f",
   "metadata": {},
   "outputs": [],
   "source": [
    "#cross-validation plot"
   ]
  },
  {
   "cell_type": "markdown",
   "id": "27956810-b9e6-4b85-a6e3-1460a4f59d29",
   "metadata": {},
   "source": [
    "<br> After determining that K=__ will likely give us the most accurate results, we retrained the model with this K value to build our classifier. \n"
   ]
  },
  {
   "cell_type": "code",
   "execution_count": 36,
   "id": "b02de68f-9bd7-4a66-801c-06e82a334e09",
   "metadata": {},
   "outputs": [],
   "source": [
    "#rebuild model with best K"
   ]
  },
  {
   "cell_type": "markdown",
   "id": "83dd682e-9e63-41fd-8433-f900643f6aef",
   "metadata": {},
   "source": [
    "<br> Finally, we tested the classifier on data it has not seen before (ie. the testing data) to determine its accuracy.\n",
    "With the metrics function, the calculated prediction accuracy was found to be ___. Compared to the estimated accuracy result in cross-validation (___), the prediction accuracy on testing data is better/worse. This indicates that the model is good/bad at generalizing to new data. Compared to the majority classifier calculated in the exploratory data analysis section (___%), it is higher/lower. This indicates that the method chosen is/isn’t extracting useful information from the predictor variables. \n"
   ]
  },
  {
   "cell_type": "code",
   "execution_count": 37,
   "id": "41fa382b-f0dd-45d2-aa2b-91a5afbd75f8",
   "metadata": {},
   "outputs": [],
   "source": [
    "#code for testing on testing data "
   ]
  },
  {
   "cell_type": "markdown",
   "id": "e818d3ef-81c6-4f53-ab43-5f525c03bcfc",
   "metadata": {},
   "source": [
    "<br> The confusion matrix was also computed to see the predictions. In the context of stroke prediction, it is important that false negatives are prevented whereas false positives are not as big of a problem. As shown, our classifier has ___ false negatives, ___ false positives. (explain if results are good/bad)\n"
   ]
  },
  {
   "cell_type": "code",
   "execution_count": 38,
   "id": "ce4b8862-16fa-466d-b183-25ffe569da78",
   "metadata": {},
   "outputs": [],
   "source": [
    "#code for confusion matrix"
   ]
  },
  {
   "cell_type": "markdown",
   "id": "e4edf0aa-64d1-4f2f-9823-efa687535a35",
   "metadata": {},
   "source": [
    "<br> To model the classifier's accuracy, the result was visualized with a scatter plot using the predictor variables. Training data was coloured by stroke condition and the diagnosis of a random observation from the testing data was labelled in a different colour so that we can see where the classifier was making its choice. Accuracy was visualized by colouring the area where the classifier makes the classification. The classifier would be most accurate when the real class of the data point matches the colour of the plot background\n",
    " "
   ]
  },
  {
   "cell_type": "code",
   "execution_count": 39,
   "id": "775ab819-53ff-443e-897f-f72ec67f3554",
   "metadata": {},
   "outputs": [],
   "source": [
    "#code for scatter plot"
   ]
  },
  {
   "cell_type": "markdown",
   "id": "a38b9c25-12e0-46e0-b9a1-b322cf82c5ce",
   "metadata": {},
   "source": [
    "<br> To assess the classifier's predictive capacity, a mosaic plot of the confusion matrix was made. Cases where the truth matches the prediction indicate accurate predictions. From the plot, there are __ true positives, and __ true negatives. Cases where the truth does not match the prediction indicate false positives (__), and false negatives (___). "
   ]
  },
  {
   "cell_type": "code",
   "execution_count": 40,
   "id": "624f864f-b27a-444f-9b6d-1aa2b1d373aa",
   "metadata": {},
   "outputs": [],
   "source": [
    "#I can put the code for this if you guys don't know how to do it (Tiff)"
   ]
  },
  {
   "cell_type": "markdown",
   "id": "ccb22f89-f5f4-408b-847c-be249763fbd0",
   "metadata": {},
   "source": [
    "## <br> Discussion "
   ]
  },
  {
   "cell_type": "code",
   "execution_count": null,
   "id": "ae6e65e9-a10e-4c5c-9b2f-2149f6efedf4",
   "metadata": {},
   "outputs": [],
   "source": []
  },
  {
   "cell_type": "markdown",
   "id": "29f72a42-9849-4d78-a9e5-3bc23adad492",
   "metadata": {},
   "source": [
    "## <br> References"
   ]
  },
  {
   "cell_type": "code",
   "execution_count": null,
   "id": "7186101b-bba0-41b7-a7a8-c7b2ca995c0f",
   "metadata": {},
   "outputs": [],
   "source": []
  }
 ],
 "metadata": {
  "kernelspec": {
   "display_name": "R",
   "language": "R",
   "name": "ir"
  },
  "language_info": {
   "codemirror_mode": "r",
   "file_extension": ".r",
   "mimetype": "text/x-r-source",
   "name": "R",
   "pygments_lexer": "r",
   "version": "4.1.3"
  }
 },
 "nbformat": 4,
 "nbformat_minor": 5
}
