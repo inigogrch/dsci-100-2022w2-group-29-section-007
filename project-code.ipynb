{
 "cells": [
  {
   "cell_type": "code",
   "execution_count": 1,
   "id": "0ab20e0a-92fa-4f01-9c11-54868683178e",
   "metadata": {},
   "outputs": [
    {
     "name": "stderr",
     "output_type": "stream",
     "text": [
      "── \u001b[1mAttaching packages\u001b[22m ─────────────────────────────────────── tidyverse 1.3.1 ──\n",
      "\n",
      "\u001b[32m✔\u001b[39m \u001b[34mggplot2\u001b[39m 3.3.6     \u001b[32m✔\u001b[39m \u001b[34mpurrr  \u001b[39m 0.3.4\n",
      "\u001b[32m✔\u001b[39m \u001b[34mtibble \u001b[39m 3.1.7     \u001b[32m✔\u001b[39m \u001b[34mdplyr  \u001b[39m 1.0.9\n",
      "\u001b[32m✔\u001b[39m \u001b[34mtidyr  \u001b[39m 1.2.0     \u001b[32m✔\u001b[39m \u001b[34mstringr\u001b[39m 1.4.0\n",
      "\u001b[32m✔\u001b[39m \u001b[34mreadr  \u001b[39m 2.1.2     \u001b[32m✔\u001b[39m \u001b[34mforcats\u001b[39m 0.5.1\n",
      "\n",
      "── \u001b[1mConflicts\u001b[22m ────────────────────────────────────────── tidyverse_conflicts() ──\n",
      "\u001b[31m✖\u001b[39m \u001b[34mdplyr\u001b[39m::\u001b[32mfilter()\u001b[39m masks \u001b[34mstats\u001b[39m::filter()\n",
      "\u001b[31m✖\u001b[39m \u001b[34mdplyr\u001b[39m::\u001b[32mlag()\u001b[39m    masks \u001b[34mstats\u001b[39m::lag()\n",
      "\n",
      "── \u001b[1mAttaching packages\u001b[22m ────────────────────────────────────── tidymodels 1.0.0 ──\n",
      "\n",
      "\u001b[32m✔\u001b[39m \u001b[34mbroom       \u001b[39m 1.0.0     \u001b[32m✔\u001b[39m \u001b[34mrsample     \u001b[39m 1.0.0\n",
      "\u001b[32m✔\u001b[39m \u001b[34mdials       \u001b[39m 1.0.0     \u001b[32m✔\u001b[39m \u001b[34mtune        \u001b[39m 1.0.0\n",
      "\u001b[32m✔\u001b[39m \u001b[34minfer       \u001b[39m 1.0.2     \u001b[32m✔\u001b[39m \u001b[34mworkflows   \u001b[39m 1.0.0\n",
      "\u001b[32m✔\u001b[39m \u001b[34mmodeldata   \u001b[39m 1.0.0     \u001b[32m✔\u001b[39m \u001b[34mworkflowsets\u001b[39m 1.0.0\n",
      "\u001b[32m✔\u001b[39m \u001b[34mparsnip     \u001b[39m 1.0.0     \u001b[32m✔\u001b[39m \u001b[34myardstick   \u001b[39m 1.0.0\n",
      "\u001b[32m✔\u001b[39m \u001b[34mrecipes     \u001b[39m 1.0.1     \n",
      "\n",
      "── \u001b[1mConflicts\u001b[22m ───────────────────────────────────────── tidymodels_conflicts() ──\n",
      "\u001b[31m✖\u001b[39m \u001b[34mscales\u001b[39m::\u001b[32mdiscard()\u001b[39m masks \u001b[34mpurrr\u001b[39m::discard()\n",
      "\u001b[31m✖\u001b[39m \u001b[34mdplyr\u001b[39m::\u001b[32mfilter()\u001b[39m   masks \u001b[34mstats\u001b[39m::filter()\n",
      "\u001b[31m✖\u001b[39m \u001b[34mrecipes\u001b[39m::\u001b[32mfixed()\u001b[39m  masks \u001b[34mstringr\u001b[39m::fixed()\n",
      "\u001b[31m✖\u001b[39m \u001b[34mdplyr\u001b[39m::\u001b[32mlag()\u001b[39m      masks \u001b[34mstats\u001b[39m::lag()\n",
      "\u001b[31m✖\u001b[39m \u001b[34myardstick\u001b[39m::\u001b[32mspec()\u001b[39m masks \u001b[34mreadr\u001b[39m::spec()\n",
      "\u001b[31m✖\u001b[39m \u001b[34mrecipes\u001b[39m::\u001b[32mstep()\u001b[39m   masks \u001b[34mstats\u001b[39m::step()\n",
      "\u001b[34m•\u001b[39m Learn how to get started at \u001b[32mhttps://www.tidymodels.org/start/\u001b[39m\n",
      "\n"
     ]
    }
   ],
   "source": [
    "library(tidyverse)\n",
    "library(repr)\n",
    "library(tidymodels)\n",
    "options(repr.matrix.max.rows = 6) "
   ]
  },
  {
   "cell_type": "code",
   "execution_count": 46,
   "id": "eeb8453f-f25e-44f3-89c8-cc8152530098",
   "metadata": {},
   "outputs": [
    {
     "name": "stderr",
     "output_type": "stream",
     "text": [
      "\u001b[1mRows: \u001b[22m\u001b[34m4981\u001b[39m \u001b[1mColumns: \u001b[22m\u001b[34m11\u001b[39m\n",
      "\u001b[36m──\u001b[39m \u001b[1mColumn specification\u001b[22m \u001b[36m────────────────────────────────────────────────────────\u001b[39m\n",
      "\u001b[1mDelimiter:\u001b[22m \",\"\n",
      "\u001b[31mchr\u001b[39m (5): gender, ever_married, work_type, Residence_type, smoking_status\n",
      "\u001b[32mdbl\u001b[39m (6): age, hypertension, heart_disease, avg_glucose_level, bmi, stroke\n",
      "\n",
      "\u001b[36mℹ\u001b[39m Use `spec()` to retrieve the full column specification for this data.\n",
      "\u001b[36mℹ\u001b[39m Specify the column types or set `show_col_types = FALSE` to quiet this message.\n"
     ]
    },
    {
     "data": {
      "text/html": [
       "<table class=\"dataframe\">\n",
       "<caption>A spec_tbl_df: 4981 × 11</caption>\n",
       "<thead>\n",
       "\t<tr><th scope=col>gender</th><th scope=col>age</th><th scope=col>hypertension</th><th scope=col>heart_disease</th><th scope=col>ever_married</th><th scope=col>work_type</th><th scope=col>Residence_type</th><th scope=col>avg_glucose_level</th><th scope=col>bmi</th><th scope=col>smoking_status</th><th scope=col>stroke</th></tr>\n",
       "\t<tr><th scope=col>&lt;chr&gt;</th><th scope=col>&lt;dbl&gt;</th><th scope=col>&lt;dbl&gt;</th><th scope=col>&lt;dbl&gt;</th><th scope=col>&lt;chr&gt;</th><th scope=col>&lt;chr&gt;</th><th scope=col>&lt;chr&gt;</th><th scope=col>&lt;dbl&gt;</th><th scope=col>&lt;dbl&gt;</th><th scope=col>&lt;chr&gt;</th><th scope=col>&lt;dbl&gt;</th></tr>\n",
       "</thead>\n",
       "<tbody>\n",
       "\t<tr><td>Male  </td><td>67</td><td>0</td><td>1</td><td>Yes</td><td>Private</td><td>Urban</td><td>228.69</td><td>36.6</td><td>formerly smoked</td><td>1</td></tr>\n",
       "\t<tr><td>Male  </td><td>80</td><td>0</td><td>1</td><td>Yes</td><td>Private</td><td>Rural</td><td>105.92</td><td>32.5</td><td>never smoked   </td><td>1</td></tr>\n",
       "\t<tr><td>Female</td><td>49</td><td>0</td><td>0</td><td>Yes</td><td>Private</td><td>Urban</td><td>171.23</td><td>34.4</td><td>smokes         </td><td>1</td></tr>\n",
       "\t<tr><td>⋮</td><td>⋮</td><td>⋮</td><td>⋮</td><td>⋮</td><td>⋮</td><td>⋮</td><td>⋮</td><td>⋮</td><td>⋮</td><td>⋮</td></tr>\n",
       "\t<tr><td>Female</td><td>45</td><td>1</td><td>0</td><td>Yes</td><td>Govt_job</td><td>Rural</td><td>95.02</td><td>31.8</td><td>smokes      </td><td>0</td></tr>\n",
       "\t<tr><td>Male  </td><td>40</td><td>0</td><td>0</td><td>Yes</td><td>Private </td><td>Rural</td><td>83.94</td><td>30.0</td><td>smokes      </td><td>0</td></tr>\n",
       "\t<tr><td>Female</td><td>80</td><td>1</td><td>0</td><td>Yes</td><td>Private </td><td>Urban</td><td>83.75</td><td>29.1</td><td>never smoked</td><td>0</td></tr>\n",
       "</tbody>\n",
       "</table>\n"
      ],
      "text/latex": [
       "A spec\\_tbl\\_df: 4981 × 11\n",
       "\\begin{tabular}{lllllllllll}\n",
       " gender & age & hypertension & heart\\_disease & ever\\_married & work\\_type & Residence\\_type & avg\\_glucose\\_level & bmi & smoking\\_status & stroke\\\\\n",
       " <chr> & <dbl> & <dbl> & <dbl> & <chr> & <chr> & <chr> & <dbl> & <dbl> & <chr> & <dbl>\\\\\n",
       "\\hline\n",
       "\t Male   & 67 & 0 & 1 & Yes & Private & Urban & 228.69 & 36.6 & formerly smoked & 1\\\\\n",
       "\t Male   & 80 & 0 & 1 & Yes & Private & Rural & 105.92 & 32.5 & never smoked    & 1\\\\\n",
       "\t Female & 49 & 0 & 0 & Yes & Private & Urban & 171.23 & 34.4 & smokes          & 1\\\\\n",
       "\t ⋮ & ⋮ & ⋮ & ⋮ & ⋮ & ⋮ & ⋮ & ⋮ & ⋮ & ⋮ & ⋮\\\\\n",
       "\t Female & 45 & 1 & 0 & Yes & Govt\\_job & Rural & 95.02 & 31.8 & smokes       & 0\\\\\n",
       "\t Male   & 40 & 0 & 0 & Yes & Private  & Rural & 83.94 & 30.0 & smokes       & 0\\\\\n",
       "\t Female & 80 & 1 & 0 & Yes & Private  & Urban & 83.75 & 29.1 & never smoked & 0\\\\\n",
       "\\end{tabular}\n"
      ],
      "text/markdown": [
       "\n",
       "A spec_tbl_df: 4981 × 11\n",
       "\n",
       "| gender &lt;chr&gt; | age &lt;dbl&gt; | hypertension &lt;dbl&gt; | heart_disease &lt;dbl&gt; | ever_married &lt;chr&gt; | work_type &lt;chr&gt; | Residence_type &lt;chr&gt; | avg_glucose_level &lt;dbl&gt; | bmi &lt;dbl&gt; | smoking_status &lt;chr&gt; | stroke &lt;dbl&gt; |\n",
       "|---|---|---|---|---|---|---|---|---|---|---|\n",
       "| Male   | 67 | 0 | 1 | Yes | Private | Urban | 228.69 | 36.6 | formerly smoked | 1 |\n",
       "| Male   | 80 | 0 | 1 | Yes | Private | Rural | 105.92 | 32.5 | never smoked    | 1 |\n",
       "| Female | 49 | 0 | 0 | Yes | Private | Urban | 171.23 | 34.4 | smokes          | 1 |\n",
       "| ⋮ | ⋮ | ⋮ | ⋮ | ⋮ | ⋮ | ⋮ | ⋮ | ⋮ | ⋮ | ⋮ |\n",
       "| Female | 45 | 1 | 0 | Yes | Govt_job | Rural | 95.02 | 31.8 | smokes       | 0 |\n",
       "| Male   | 40 | 0 | 0 | Yes | Private  | Rural | 83.94 | 30.0 | smokes       | 0 |\n",
       "| Female | 80 | 1 | 0 | Yes | Private  | Urban | 83.75 | 29.1 | never smoked | 0 |\n",
       "\n"
      ],
      "text/plain": [
       "     gender age hypertension heart_disease ever_married work_type\n",
       "1    Male   67  0            1             Yes          Private  \n",
       "2    Male   80  0            1             Yes          Private  \n",
       "3    Female 49  0            0             Yes          Private  \n",
       "⋮    ⋮      ⋮   ⋮            ⋮             ⋮            ⋮        \n",
       "4979 Female 45  1            0             Yes          Govt_job \n",
       "4980 Male   40  0            0             Yes          Private  \n",
       "4981 Female 80  1            0             Yes          Private  \n",
       "     Residence_type avg_glucose_level bmi  smoking_status  stroke\n",
       "1    Urban          228.69            36.6 formerly smoked 1     \n",
       "2    Rural          105.92            32.5 never smoked    1     \n",
       "3    Urban          171.23            34.4 smokes          1     \n",
       "⋮    ⋮              ⋮                 ⋮    ⋮               ⋮     \n",
       "4979 Rural          95.02             31.8 smokes          0     \n",
       "4980 Rural          83.94             30.0 smokes          0     \n",
       "4981 Urban          83.75             29.1 never smoked    0     "
      ]
     },
     "metadata": {},
     "output_type": "display_data"
    }
   ],
   "source": [
    "brainstroke_data <- read_csv(\"https://drive.google.com/uc?export=download&id=1yBiO_qBE9_YBvnEyPe2bazH5ZCOBb1d6\")\n",
    "\n",
    "brainstroke_data"
   ]
  },
  {
   "cell_type": "code",
   "execution_count": 47,
   "id": "435c4fc6-a972-4290-9c95-4838775eea18",
   "metadata": {},
   "outputs": [
    {
     "data": {
      "text/html": [
       "<table class=\"dataframe\">\n",
       "<caption>A tibble: 4981 × 10</caption>\n",
       "<thead>\n",
       "\t<tr><th scope=col>gender</th><th scope=col>age</th><th scope=col>hypertension</th><th scope=col>heart_disease</th><th scope=col>work_type</th><th scope=col>residence_type</th><th scope=col>avg_glucose_level</th><th scope=col>bmi</th><th scope=col>smoking_status</th><th scope=col>stroke</th></tr>\n",
       "\t<tr><th scope=col>&lt;fct&gt;</th><th scope=col>&lt;dbl&gt;</th><th scope=col>&lt;fct&gt;</th><th scope=col>&lt;fct&gt;</th><th scope=col>&lt;fct&gt;</th><th scope=col>&lt;fct&gt;</th><th scope=col>&lt;dbl&gt;</th><th scope=col>&lt;dbl&gt;</th><th scope=col>&lt;fct&gt;</th><th scope=col>&lt;fct&gt;</th></tr>\n",
       "</thead>\n",
       "<tbody>\n",
       "\t<tr><td>0</td><td>67</td><td>0</td><td>1</td><td>0</td><td>1</td><td>228.69</td><td>36.6</td><td>1</td><td>1</td></tr>\n",
       "\t<tr><td>0</td><td>80</td><td>0</td><td>1</td><td>0</td><td>0</td><td>105.92</td><td>32.5</td><td>0</td><td>1</td></tr>\n",
       "\t<tr><td>1</td><td>49</td><td>0</td><td>0</td><td>0</td><td>1</td><td>171.23</td><td>34.4</td><td>2</td><td>1</td></tr>\n",
       "\t<tr><td>⋮</td><td>⋮</td><td>⋮</td><td>⋮</td><td>⋮</td><td>⋮</td><td>⋮</td><td>⋮</td><td>⋮</td><td>⋮</td></tr>\n",
       "\t<tr><td>1</td><td>45</td><td>1</td><td>0</td><td>2</td><td>0</td><td>95.02</td><td>31.8</td><td>2</td><td>0</td></tr>\n",
       "\t<tr><td>0</td><td>40</td><td>0</td><td>0</td><td>0</td><td>0</td><td>83.94</td><td>30.0</td><td>2</td><td>0</td></tr>\n",
       "\t<tr><td>1</td><td>80</td><td>1</td><td>0</td><td>0</td><td>1</td><td>83.75</td><td>29.1</td><td>0</td><td>0</td></tr>\n",
       "</tbody>\n",
       "</table>\n"
      ],
      "text/latex": [
       "A tibble: 4981 × 10\n",
       "\\begin{tabular}{llllllllll}\n",
       " gender & age & hypertension & heart\\_disease & work\\_type & residence\\_type & avg\\_glucose\\_level & bmi & smoking\\_status & stroke\\\\\n",
       " <fct> & <dbl> & <fct> & <fct> & <fct> & <fct> & <dbl> & <dbl> & <fct> & <fct>\\\\\n",
       "\\hline\n",
       "\t 0 & 67 & 0 & 1 & 0 & 1 & 228.69 & 36.6 & 1 & 1\\\\\n",
       "\t 0 & 80 & 0 & 1 & 0 & 0 & 105.92 & 32.5 & 0 & 1\\\\\n",
       "\t 1 & 49 & 0 & 0 & 0 & 1 & 171.23 & 34.4 & 2 & 1\\\\\n",
       "\t ⋮ & ⋮ & ⋮ & ⋮ & ⋮ & ⋮ & ⋮ & ⋮ & ⋮ & ⋮\\\\\n",
       "\t 1 & 45 & 1 & 0 & 2 & 0 & 95.02 & 31.8 & 2 & 0\\\\\n",
       "\t 0 & 40 & 0 & 0 & 0 & 0 & 83.94 & 30.0 & 2 & 0\\\\\n",
       "\t 1 & 80 & 1 & 0 & 0 & 1 & 83.75 & 29.1 & 0 & 0\\\\\n",
       "\\end{tabular}\n"
      ],
      "text/markdown": [
       "\n",
       "A tibble: 4981 × 10\n",
       "\n",
       "| gender &lt;fct&gt; | age &lt;dbl&gt; | hypertension &lt;fct&gt; | heart_disease &lt;fct&gt; | work_type &lt;fct&gt; | residence_type &lt;fct&gt; | avg_glucose_level &lt;dbl&gt; | bmi &lt;dbl&gt; | smoking_status &lt;fct&gt; | stroke &lt;fct&gt; |\n",
       "|---|---|---|---|---|---|---|---|---|---|\n",
       "| 0 | 67 | 0 | 1 | 0 | 1 | 228.69 | 36.6 | 1 | 1 |\n",
       "| 0 | 80 | 0 | 1 | 0 | 0 | 105.92 | 32.5 | 0 | 1 |\n",
       "| 1 | 49 | 0 | 0 | 0 | 1 | 171.23 | 34.4 | 2 | 1 |\n",
       "| ⋮ | ⋮ | ⋮ | ⋮ | ⋮ | ⋮ | ⋮ | ⋮ | ⋮ | ⋮ |\n",
       "| 1 | 45 | 1 | 0 | 2 | 0 | 95.02 | 31.8 | 2 | 0 |\n",
       "| 0 | 40 | 0 | 0 | 0 | 0 | 83.94 | 30.0 | 2 | 0 |\n",
       "| 1 | 80 | 1 | 0 | 0 | 1 | 83.75 | 29.1 | 0 | 0 |\n",
       "\n"
      ],
      "text/plain": [
       "     gender age hypertension heart_disease work_type residence_type\n",
       "1    0      67  0            1             0         1             \n",
       "2    0      80  0            1             0         0             \n",
       "3    1      49  0            0             0         1             \n",
       "⋮    ⋮      ⋮   ⋮            ⋮             ⋮         ⋮             \n",
       "4979 1      45  1            0             2         0             \n",
       "4980 0      40  0            0             0         0             \n",
       "4981 1      80  1            0             0         1             \n",
       "     avg_glucose_level bmi  smoking_status stroke\n",
       "1    228.69            36.6 1              1     \n",
       "2    105.92            32.5 0              1     \n",
       "3    171.23            34.4 2              1     \n",
       "⋮    ⋮                 ⋮    ⋮              ⋮     \n",
       "4979 95.02             31.8 2              0     \n",
       "4980 83.94             30.0 2              0     \n",
       "4981 83.75             29.1 0              0     "
      ]
     },
     "metadata": {},
     "output_type": "display_data"
    }
   ],
   "source": [
    "# changing chr data to categorical int data\n",
    "# removing ever_married column\n",
    "# changing Residence_type to residence_type\n",
    "# change stroke and gender to categorical int data\n",
    "\n",
    "brainstroke_data_v1 <- brainstroke_data |>\n",
    "    mutate(gender = as_factor(ifelse(gender == 'Male', 0, 1)),\n",
    "           smoking_status = as_factor(ifelse(smoking_status == 'never smoked', 0, \n",
    "                                      ifelse(smoking_status == 'formerly smoked', 1, \n",
    "                                      ifelse(smoking_status == 'smokes', 2, \n",
    "                                      ifelse(smoking_status == 'Unknown', 3, 'n/a'))))),\n",
    "           work_type = as_factor(ifelse(work_type == 'Private', 0, \n",
    "                       ifelse(work_type == 'Self-employed', 1, \n",
    "                       ifelse(work_type == 'Govt_job', 2, 'n/a')))),\n",
    "           Residence_type = as_factor(ifelse(Residence_type == 'Rural', 0, 1)),\n",
    "           stroke = as_factor(stroke),\n",
    "           heart_disease = as_factor(heart_disease),\n",
    "           hypertension = as_factor(hypertension)) |>\n",
    "    select(1:4, 6:11) \n",
    "\n",
    "colnames(brainstroke_data_v1)[6] <- 'residence_type'\n",
    "\n",
    "brainstroke_data_v1"
   ]
  },
  {
   "cell_type": "code",
   "execution_count": null,
   "id": "1be1ee42-01ac-4e79-88c5-c1229678df66",
   "metadata": {},
   "outputs": [],
   "source": [
    "# summarized tables\n",
    "\n",
    "brainstroke_data_v2 <- brainstroke_data_v1 "
   ]
  },
  {
   "cell_type": "code",
   "execution_count": null,
   "id": "f4eee296-80d5-40ba-94c5-4f478651ccb5",
   "metadata": {},
   "outputs": [],
   "source": []
  }
 ],
 "metadata": {
  "kernelspec": {
   "display_name": "R",
   "language": "R",
   "name": "ir"
  },
  "language_info": {
   "codemirror_mode": "r",
   "file_extension": ".r",
   "mimetype": "text/x-r-source",
   "name": "R",
   "pygments_lexer": "r",
   "version": "4.1.3"
  }
 },
 "nbformat": 4,
 "nbformat_minor": 5
}
