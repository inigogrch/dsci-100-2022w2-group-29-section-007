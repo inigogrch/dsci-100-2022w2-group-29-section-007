{
 "cells": [
  {
   "cell_type": "code",
   "execution_count": 44,
   "id": "0ab20e0a-92fa-4f01-9c11-54868683178e",
   "metadata": {},
   "outputs": [],
   "source": [
    "library(tidyverse)\n",
    "library(repr)\n",
    "library(tidymodels)\n",
    "options(repr.matrix.max.rows = 6) "
   ]
  },
  {
   "cell_type": "code",
   "execution_count": 45,
   "id": "eeb8453f-f25e-44f3-89c8-cc8152530098",
   "metadata": {},
   "outputs": [
    {
     "name": "stderr",
     "output_type": "stream",
     "text": [
      "\u001b[1mRows: \u001b[22m\u001b[34m4981\u001b[39m \u001b[1mColumns: \u001b[22m\u001b[34m11\u001b[39m\n",
      "\u001b[36m──\u001b[39m \u001b[1mColumn specification\u001b[22m \u001b[36m────────────────────────────────────────────────────────\u001b[39m\n",
      "\u001b[1mDelimiter:\u001b[22m \",\"\n",
      "\u001b[31mchr\u001b[39m (5): gender, ever_married, work_type, Residence_type, smoking_status\n",
      "\u001b[32mdbl\u001b[39m (6): age, hypertension, heart_disease, avg_glucose_level, bmi, stroke\n",
      "\n",
      "\u001b[36mℹ\u001b[39m Use `spec()` to retrieve the full column specification for this data.\n",
      "\u001b[36mℹ\u001b[39m Specify the column types or set `show_col_types = FALSE` to quiet this message.\n"
     ]
    },
    {
     "data": {
      "text/html": [
       "<table class=\"dataframe\">\n",
       "<caption>A spec_tbl_df: 4981 × 11</caption>\n",
       "<thead>\n",
       "\t<tr><th scope=col>gender</th><th scope=col>age</th><th scope=col>hypertension</th><th scope=col>heart_disease</th><th scope=col>ever_married</th><th scope=col>work_type</th><th scope=col>Residence_type</th><th scope=col>avg_glucose_level</th><th scope=col>bmi</th><th scope=col>smoking_status</th><th scope=col>stroke</th></tr>\n",
       "\t<tr><th scope=col>&lt;chr&gt;</th><th scope=col>&lt;dbl&gt;</th><th scope=col>&lt;dbl&gt;</th><th scope=col>&lt;dbl&gt;</th><th scope=col>&lt;chr&gt;</th><th scope=col>&lt;chr&gt;</th><th scope=col>&lt;chr&gt;</th><th scope=col>&lt;dbl&gt;</th><th scope=col>&lt;dbl&gt;</th><th scope=col>&lt;chr&gt;</th><th scope=col>&lt;dbl&gt;</th></tr>\n",
       "</thead>\n",
       "<tbody>\n",
       "\t<tr><td>Male  </td><td>67</td><td>0</td><td>1</td><td>Yes</td><td>Private</td><td>Urban</td><td>228.69</td><td>36.6</td><td>formerly smoked</td><td>1</td></tr>\n",
       "\t<tr><td>Male  </td><td>80</td><td>0</td><td>1</td><td>Yes</td><td>Private</td><td>Rural</td><td>105.92</td><td>32.5</td><td>never smoked   </td><td>1</td></tr>\n",
       "\t<tr><td>Female</td><td>49</td><td>0</td><td>0</td><td>Yes</td><td>Private</td><td>Urban</td><td>171.23</td><td>34.4</td><td>smokes         </td><td>1</td></tr>\n",
       "\t<tr><td>⋮</td><td>⋮</td><td>⋮</td><td>⋮</td><td>⋮</td><td>⋮</td><td>⋮</td><td>⋮</td><td>⋮</td><td>⋮</td><td>⋮</td></tr>\n",
       "\t<tr><td>Female</td><td>45</td><td>1</td><td>0</td><td>Yes</td><td>Govt_job</td><td>Rural</td><td>95.02</td><td>31.8</td><td>smokes      </td><td>0</td></tr>\n",
       "\t<tr><td>Male  </td><td>40</td><td>0</td><td>0</td><td>Yes</td><td>Private </td><td>Rural</td><td>83.94</td><td>30.0</td><td>smokes      </td><td>0</td></tr>\n",
       "\t<tr><td>Female</td><td>80</td><td>1</td><td>0</td><td>Yes</td><td>Private </td><td>Urban</td><td>83.75</td><td>29.1</td><td>never smoked</td><td>0</td></tr>\n",
       "</tbody>\n",
       "</table>\n"
      ],
      "text/latex": [
       "A spec\\_tbl\\_df: 4981 × 11\n",
       "\\begin{tabular}{lllllllllll}\n",
       " gender & age & hypertension & heart\\_disease & ever\\_married & work\\_type & Residence\\_type & avg\\_glucose\\_level & bmi & smoking\\_status & stroke\\\\\n",
       " <chr> & <dbl> & <dbl> & <dbl> & <chr> & <chr> & <chr> & <dbl> & <dbl> & <chr> & <dbl>\\\\\n",
       "\\hline\n",
       "\t Male   & 67 & 0 & 1 & Yes & Private & Urban & 228.69 & 36.6 & formerly smoked & 1\\\\\n",
       "\t Male   & 80 & 0 & 1 & Yes & Private & Rural & 105.92 & 32.5 & never smoked    & 1\\\\\n",
       "\t Female & 49 & 0 & 0 & Yes & Private & Urban & 171.23 & 34.4 & smokes          & 1\\\\\n",
       "\t ⋮ & ⋮ & ⋮ & ⋮ & ⋮ & ⋮ & ⋮ & ⋮ & ⋮ & ⋮ & ⋮\\\\\n",
       "\t Female & 45 & 1 & 0 & Yes & Govt\\_job & Rural & 95.02 & 31.8 & smokes       & 0\\\\\n",
       "\t Male   & 40 & 0 & 0 & Yes & Private  & Rural & 83.94 & 30.0 & smokes       & 0\\\\\n",
       "\t Female & 80 & 1 & 0 & Yes & Private  & Urban & 83.75 & 29.1 & never smoked & 0\\\\\n",
       "\\end{tabular}\n"
      ],
      "text/markdown": [
       "\n",
       "A spec_tbl_df: 4981 × 11\n",
       "\n",
       "| gender &lt;chr&gt; | age &lt;dbl&gt; | hypertension &lt;dbl&gt; | heart_disease &lt;dbl&gt; | ever_married &lt;chr&gt; | work_type &lt;chr&gt; | Residence_type &lt;chr&gt; | avg_glucose_level &lt;dbl&gt; | bmi &lt;dbl&gt; | smoking_status &lt;chr&gt; | stroke &lt;dbl&gt; |\n",
       "|---|---|---|---|---|---|---|---|---|---|---|\n",
       "| Male   | 67 | 0 | 1 | Yes | Private | Urban | 228.69 | 36.6 | formerly smoked | 1 |\n",
       "| Male   | 80 | 0 | 1 | Yes | Private | Rural | 105.92 | 32.5 | never smoked    | 1 |\n",
       "| Female | 49 | 0 | 0 | Yes | Private | Urban | 171.23 | 34.4 | smokes          | 1 |\n",
       "| ⋮ | ⋮ | ⋮ | ⋮ | ⋮ | ⋮ | ⋮ | ⋮ | ⋮ | ⋮ | ⋮ |\n",
       "| Female | 45 | 1 | 0 | Yes | Govt_job | Rural | 95.02 | 31.8 | smokes       | 0 |\n",
       "| Male   | 40 | 0 | 0 | Yes | Private  | Rural | 83.94 | 30.0 | smokes       | 0 |\n",
       "| Female | 80 | 1 | 0 | Yes | Private  | Urban | 83.75 | 29.1 | never smoked | 0 |\n",
       "\n"
      ],
      "text/plain": [
       "     gender age hypertension heart_disease ever_married work_type\n",
       "1    Male   67  0            1             Yes          Private  \n",
       "2    Male   80  0            1             Yes          Private  \n",
       "3    Female 49  0            0             Yes          Private  \n",
       "⋮    ⋮      ⋮   ⋮            ⋮             ⋮            ⋮        \n",
       "4979 Female 45  1            0             Yes          Govt_job \n",
       "4980 Male   40  0            0             Yes          Private  \n",
       "4981 Female 80  1            0             Yes          Private  \n",
       "     Residence_type avg_glucose_level bmi  smoking_status  stroke\n",
       "1    Urban          228.69            36.6 formerly smoked 1     \n",
       "2    Rural          105.92            32.5 never smoked    1     \n",
       "3    Urban          171.23            34.4 smokes          1     \n",
       "⋮    ⋮              ⋮                 ⋮    ⋮               ⋮     \n",
       "4979 Rural          95.02             31.8 smokes          0     \n",
       "4980 Rural          83.94             30.0 smokes          0     \n",
       "4981 Urban          83.75             29.1 never smoked    0     "
      ]
     },
     "metadata": {},
     "output_type": "display_data"
    }
   ],
   "source": [
    "brainstroke_data <- read_csv(\"https://drive.google.com/uc?export=download&id=1yBiO_qBE9_YBvnEyPe2bazH5ZCOBb1d6\")\n",
    "\n",
    "brainstroke_data"
   ]
  },
  {
   "cell_type": "code",
   "execution_count": 3,
   "id": "435c4fc6-a972-4290-9c95-4838775eea18",
   "metadata": {},
   "outputs": [
    {
     "data": {
      "text/html": [
       "<table class=\"dataframe\">\n",
       "<caption>A tibble: 4981 × 10</caption>\n",
       "<thead>\n",
       "\t<tr><th scope=col>gender</th><th scope=col>age</th><th scope=col>hypertension</th><th scope=col>heart_disease</th><th scope=col>work_type</th><th scope=col>residence_type</th><th scope=col>avg_glucose_level</th><th scope=col>bmi</th><th scope=col>smoking_status</th><th scope=col>stroke</th></tr>\n",
       "\t<tr><th scope=col>&lt;fct&gt;</th><th scope=col>&lt;dbl&gt;</th><th scope=col>&lt;fct&gt;</th><th scope=col>&lt;fct&gt;</th><th scope=col>&lt;fct&gt;</th><th scope=col>&lt;fct&gt;</th><th scope=col>&lt;dbl&gt;</th><th scope=col>&lt;dbl&gt;</th><th scope=col>&lt;fct&gt;</th><th scope=col>&lt;fct&gt;</th></tr>\n",
       "</thead>\n",
       "<tbody>\n",
       "\t<tr><td>1</td><td>67</td><td>0</td><td>1</td><td>1</td><td>2</td><td>228.69</td><td>36.6</td><td>2</td><td>1</td></tr>\n",
       "\t<tr><td>1</td><td>80</td><td>0</td><td>1</td><td>1</td><td>1</td><td>105.92</td><td>32.5</td><td>1</td><td>1</td></tr>\n",
       "\t<tr><td>2</td><td>49</td><td>0</td><td>0</td><td>1</td><td>2</td><td>171.23</td><td>34.4</td><td>3</td><td>1</td></tr>\n",
       "\t<tr><td>⋮</td><td>⋮</td><td>⋮</td><td>⋮</td><td>⋮</td><td>⋮</td><td>⋮</td><td>⋮</td><td>⋮</td><td>⋮</td></tr>\n",
       "\t<tr><td>2</td><td>45</td><td>1</td><td>0</td><td>3</td><td>1</td><td>95.02</td><td>31.8</td><td>3</td><td>0</td></tr>\n",
       "\t<tr><td>1</td><td>40</td><td>0</td><td>0</td><td>1</td><td>1</td><td>83.94</td><td>30.0</td><td>3</td><td>0</td></tr>\n",
       "\t<tr><td>2</td><td>80</td><td>1</td><td>0</td><td>1</td><td>2</td><td>83.75</td><td>29.1</td><td>1</td><td>0</td></tr>\n",
       "</tbody>\n",
       "</table>\n"
      ],
      "text/latex": [
       "A tibble: 4981 × 10\n",
       "\\begin{tabular}{llllllllll}\n",
       " gender & age & hypertension & heart\\_disease & work\\_type & residence\\_type & avg\\_glucose\\_level & bmi & smoking\\_status & stroke\\\\\n",
       " <fct> & <dbl> & <fct> & <fct> & <fct> & <fct> & <dbl> & <dbl> & <fct> & <fct>\\\\\n",
       "\\hline\n",
       "\t 1 & 67 & 0 & 1 & 1 & 2 & 228.69 & 36.6 & 2 & 1\\\\\n",
       "\t 1 & 80 & 0 & 1 & 1 & 1 & 105.92 & 32.5 & 1 & 1\\\\\n",
       "\t 2 & 49 & 0 & 0 & 1 & 2 & 171.23 & 34.4 & 3 & 1\\\\\n",
       "\t ⋮ & ⋮ & ⋮ & ⋮ & ⋮ & ⋮ & ⋮ & ⋮ & ⋮ & ⋮\\\\\n",
       "\t 2 & 45 & 1 & 0 & 3 & 1 & 95.02 & 31.8 & 3 & 0\\\\\n",
       "\t 1 & 40 & 0 & 0 & 1 & 1 & 83.94 & 30.0 & 3 & 0\\\\\n",
       "\t 2 & 80 & 1 & 0 & 1 & 2 & 83.75 & 29.1 & 1 & 0\\\\\n",
       "\\end{tabular}\n"
      ],
      "text/markdown": [
       "\n",
       "A tibble: 4981 × 10\n",
       "\n",
       "| gender &lt;fct&gt; | age &lt;dbl&gt; | hypertension &lt;fct&gt; | heart_disease &lt;fct&gt; | work_type &lt;fct&gt; | residence_type &lt;fct&gt; | avg_glucose_level &lt;dbl&gt; | bmi &lt;dbl&gt; | smoking_status &lt;fct&gt; | stroke &lt;fct&gt; |\n",
       "|---|---|---|---|---|---|---|---|---|---|\n",
       "| 1 | 67 | 0 | 1 | 1 | 2 | 228.69 | 36.6 | 2 | 1 |\n",
       "| 1 | 80 | 0 | 1 | 1 | 1 | 105.92 | 32.5 | 1 | 1 |\n",
       "| 2 | 49 | 0 | 0 | 1 | 2 | 171.23 | 34.4 | 3 | 1 |\n",
       "| ⋮ | ⋮ | ⋮ | ⋮ | ⋮ | ⋮ | ⋮ | ⋮ | ⋮ | ⋮ |\n",
       "| 2 | 45 | 1 | 0 | 3 | 1 | 95.02 | 31.8 | 3 | 0 |\n",
       "| 1 | 40 | 0 | 0 | 1 | 1 | 83.94 | 30.0 | 3 | 0 |\n",
       "| 2 | 80 | 1 | 0 | 1 | 2 | 83.75 | 29.1 | 1 | 0 |\n",
       "\n"
      ],
      "text/plain": [
       "     gender age hypertension heart_disease work_type residence_type\n",
       "1    1      67  0            1             1         2             \n",
       "2    1      80  0            1             1         1             \n",
       "3    2      49  0            0             1         2             \n",
       "⋮    ⋮      ⋮   ⋮            ⋮             ⋮         ⋮             \n",
       "4979 2      45  1            0             3         1             \n",
       "4980 1      40  0            0             1         1             \n",
       "4981 2      80  1            0             1         2             \n",
       "     avg_glucose_level bmi  smoking_status stroke\n",
       "1    228.69            36.6 2              1     \n",
       "2    105.92            32.5 1              1     \n",
       "3    171.23            34.4 3              1     \n",
       "⋮    ⋮                 ⋮    ⋮              ⋮     \n",
       "4979 95.02             31.8 3              0     \n",
       "4980 83.94             30.0 3              0     \n",
       "4981 83.75             29.1 1              0     "
      ]
     },
     "metadata": {},
     "output_type": "display_data"
    }
   ],
   "source": [
    "# # changing chr data to categorical int data (gender, smoking status, work type, residence type)\n",
    "# # changing dbl data to categorical int data (hypertension, heart disease)\n",
    "# # removing ever_married column\n",
    "# # changing Residence_type to residence_type\n",
    "\n",
    "# brainstroke_data_v1 <- brainstroke_data |>\n",
    "#     mutate(gender = as_factor(ifelse(gender == 'Male', 1, 2)),\n",
    "#            smoking_status = as_factor(ifelse(smoking_status == 'never smoked', 1, \n",
    "#                                       ifelse(smoking_status == 'formerly smoked', 2, \n",
    "#                                       ifelse(smoking_status == 'smokes', 3, \n",
    "#                                       ifelse(smoking_status == 'Unknown', 4, 'n/a'))))),\n",
    "#            work_type = as_factor(ifelse(work_type == 'Private', 1, \n",
    "#                        ifelse(work_type == 'Self-employed', 2, \n",
    "#                        ifelse(work_type == 'Govt_job', 3, 'n/a')))),\n",
    "#            Residence_type = as_factor(ifelse(Residence_type == 'Rural', 1, 2)),\n",
    "#            stroke = as_factor(stroke),\n",
    "#            heart_disease = as_factor(heart_disease),\n",
    "#            hypertension = as_factor(hypertension)) |>\n",
    "#     select(1:4, 6:11) \n",
    "\n",
    "# colnames(brainstroke_data_v1)[6] <- 'residence_type'\n",
    "\n",
    "# brainstroke_data_v1"
   ]
  },
  {
   "cell_type": "markdown",
   "id": "b8c63516-9251-4989-86de-3e0cfcdbf04c",
   "metadata": {},
   "source": [
    "<b> GENDER </b> - male (1), female (2)\n",
    "\n",
    "<b> SMOKING STATUS </b> - never smoked (1), formerly smoked (2), smokes (3), Unknown (4)\n",
    "\n",
    "<b> WORK TYPE </b> - private (1), self-employed (2), govt job (3)\n",
    "\n",
    "<b> RESIDENCE TYPE </b> - rural (1), urban (2)"
   ]
  },
  {
   "cell_type": "code",
   "execution_count": 46,
   "id": "64708a6a-b3fa-4857-86b5-c2d994004696",
   "metadata": {},
   "outputs": [
    {
     "data": {
      "text/html": [
       "<table class=\"dataframe\">\n",
       "<caption>A tibble: 4981 × 10</caption>\n",
       "<thead>\n",
       "\t<tr><th scope=col>gender</th><th scope=col>age</th><th scope=col>hypertension</th><th scope=col>heart_disease</th><th scope=col>work_type</th><th scope=col>residence_type</th><th scope=col>avg_glucose_level</th><th scope=col>body_mass_index</th><th scope=col>smoking_status</th><th scope=col>stroke</th></tr>\n",
       "\t<tr><th scope=col>&lt;fct&gt;</th><th scope=col>&lt;dbl&gt;</th><th scope=col>&lt;fct&gt;</th><th scope=col>&lt;fct&gt;</th><th scope=col>&lt;fct&gt;</th><th scope=col>&lt;fct&gt;</th><th scope=col>&lt;dbl&gt;</th><th scope=col>&lt;dbl&gt;</th><th scope=col>&lt;fct&gt;</th><th scope=col>&lt;fct&gt;</th></tr>\n",
       "</thead>\n",
       "<tbody>\n",
       "\t<tr><td>Male  </td><td>67</td><td>0</td><td>1</td><td>Private</td><td>Urban</td><td>228.69</td><td>36.6</td><td>formerly smoked</td><td>1</td></tr>\n",
       "\t<tr><td>Male  </td><td>80</td><td>0</td><td>1</td><td>Private</td><td>Rural</td><td>105.92</td><td>32.5</td><td>never smoked   </td><td>1</td></tr>\n",
       "\t<tr><td>Female</td><td>49</td><td>0</td><td>0</td><td>Private</td><td>Urban</td><td>171.23</td><td>34.4</td><td>smokes         </td><td>1</td></tr>\n",
       "\t<tr><td>⋮</td><td>⋮</td><td>⋮</td><td>⋮</td><td>⋮</td><td>⋮</td><td>⋮</td><td>⋮</td><td>⋮</td><td>⋮</td></tr>\n",
       "\t<tr><td>Female</td><td>45</td><td>1</td><td>0</td><td>Govt_job</td><td>Rural</td><td>95.02</td><td>31.8</td><td>smokes      </td><td>0</td></tr>\n",
       "\t<tr><td>Male  </td><td>40</td><td>0</td><td>0</td><td>Private </td><td>Rural</td><td>83.94</td><td>30.0</td><td>smokes      </td><td>0</td></tr>\n",
       "\t<tr><td>Female</td><td>80</td><td>1</td><td>0</td><td>Private </td><td>Urban</td><td>83.75</td><td>29.1</td><td>never smoked</td><td>0</td></tr>\n",
       "</tbody>\n",
       "</table>\n"
      ],
      "text/latex": [
       "A tibble: 4981 × 10\n",
       "\\begin{tabular}{llllllllll}\n",
       " gender & age & hypertension & heart\\_disease & work\\_type & residence\\_type & avg\\_glucose\\_level & body\\_mass\\_index & smoking\\_status & stroke\\\\\n",
       " <fct> & <dbl> & <fct> & <fct> & <fct> & <fct> & <dbl> & <dbl> & <fct> & <fct>\\\\\n",
       "\\hline\n",
       "\t Male   & 67 & 0 & 1 & Private & Urban & 228.69 & 36.6 & formerly smoked & 1\\\\\n",
       "\t Male   & 80 & 0 & 1 & Private & Rural & 105.92 & 32.5 & never smoked    & 1\\\\\n",
       "\t Female & 49 & 0 & 0 & Private & Urban & 171.23 & 34.4 & smokes          & 1\\\\\n",
       "\t ⋮ & ⋮ & ⋮ & ⋮ & ⋮ & ⋮ & ⋮ & ⋮ & ⋮ & ⋮\\\\\n",
       "\t Female & 45 & 1 & 0 & Govt\\_job & Rural & 95.02 & 31.8 & smokes       & 0\\\\\n",
       "\t Male   & 40 & 0 & 0 & Private  & Rural & 83.94 & 30.0 & smokes       & 0\\\\\n",
       "\t Female & 80 & 1 & 0 & Private  & Urban & 83.75 & 29.1 & never smoked & 0\\\\\n",
       "\\end{tabular}\n"
      ],
      "text/markdown": [
       "\n",
       "A tibble: 4981 × 10\n",
       "\n",
       "| gender &lt;fct&gt; | age &lt;dbl&gt; | hypertension &lt;fct&gt; | heart_disease &lt;fct&gt; | work_type &lt;fct&gt; | residence_type &lt;fct&gt; | avg_glucose_level &lt;dbl&gt; | body_mass_index &lt;dbl&gt; | smoking_status &lt;fct&gt; | stroke &lt;fct&gt; |\n",
       "|---|---|---|---|---|---|---|---|---|---|\n",
       "| Male   | 67 | 0 | 1 | Private | Urban | 228.69 | 36.6 | formerly smoked | 1 |\n",
       "| Male   | 80 | 0 | 1 | Private | Rural | 105.92 | 32.5 | never smoked    | 1 |\n",
       "| Female | 49 | 0 | 0 | Private | Urban | 171.23 | 34.4 | smokes          | 1 |\n",
       "| ⋮ | ⋮ | ⋮ | ⋮ | ⋮ | ⋮ | ⋮ | ⋮ | ⋮ | ⋮ |\n",
       "| Female | 45 | 1 | 0 | Govt_job | Rural | 95.02 | 31.8 | smokes       | 0 |\n",
       "| Male   | 40 | 0 | 0 | Private  | Rural | 83.94 | 30.0 | smokes       | 0 |\n",
       "| Female | 80 | 1 | 0 | Private  | Urban | 83.75 | 29.1 | never smoked | 0 |\n",
       "\n"
      ],
      "text/plain": [
       "     gender age hypertension heart_disease work_type residence_type\n",
       "1    Male   67  0            1             Private   Urban         \n",
       "2    Male   80  0            1             Private   Rural         \n",
       "3    Female 49  0            0             Private   Urban         \n",
       "⋮    ⋮      ⋮   ⋮            ⋮             ⋮         ⋮             \n",
       "4979 Female 45  1            0             Govt_job  Rural         \n",
       "4980 Male   40  0            0             Private   Rural         \n",
       "4981 Female 80  1            0             Private   Urban         \n",
       "     avg_glucose_level body_mass_index smoking_status  stroke\n",
       "1    228.69            36.6            formerly smoked 1     \n",
       "2    105.92            32.5            never smoked    1     \n",
       "3    171.23            34.4            smokes          1     \n",
       "⋮    ⋮                 ⋮               ⋮               ⋮     \n",
       "4979 95.02             31.8            smokes          0     \n",
       "4980 83.94             30.0            smokes          0     \n",
       "4981 83.75             29.1            never smoked    0     "
      ]
     },
     "metadata": {},
     "output_type": "display_data"
    }
   ],
   "source": [
    "# changing chr data to categorical data (gender, smoking status, work type, residence type, hypertension, heart disease)\n",
    "# removing ever_married column\n",
    "# changed Residence_type and bmi column names\n",
    "\n",
    "# brainstroke_data_v1 <- brainstroke_data |>\n",
    "#     mutate(gender = as_factor(gender),\n",
    "#            smoking_status = as_factor(smoking_status),\n",
    "#            work_type = as_factor(work_type),\n",
    "#            Residence_type = as_factor(Residence_type),\n",
    "#            stroke = as_factor(stroke),\n",
    "#            heart_disease = as_factor(heart_disease),\n",
    "#            hypertension = as_factor(hypertension)) |>\n",
    "#     select(1:4, 6:11) \n",
    "\n",
    "# colnames(brainstroke_data_v1)[6] <- 'residence_type'\n",
    "# colnames(brainstroke_data_v1)[8] <- 'body_mass_index'\n",
    "\n",
    "# brainstroke_data_v1\n",
    "\n",
    "brainstroke_data_v1 <- brainstroke_data |>\n",
    "    mutate(across(c(gender, hypertension:Residence_type, smoking_status:stroke),\n",
    "                  as_factor)) |>\n",
    "    select(1:4, 6:11)\n",
    "\n",
    "colnames(brainstroke_data_v1)[6] <- 'residence_type'\n",
    "colnames(brainstroke_data_v1)[8] <- 'body_mass_index'\n",
    "\n",
    "brainstroke_data_v1"
   ]
  },
  {
   "cell_type": "markdown",
   "id": "6eed2f03-fe98-4170-a464-c3ff9c747956",
   "metadata": {},
   "source": [
    "<b> FOR FACTOR DATA - </b> yes (1), no (0) (hypertension, heart disease, stroke)"
   ]
  },
  {
   "cell_type": "code",
   "execution_count": 49,
   "id": "1be1ee42-01ac-4e79-88c5-c1229678df66",
   "metadata": {},
   "outputs": [
    {
     "data": {
      "text/html": [
       "0"
      ],
      "text/latex": [
       "0"
      ],
      "text/markdown": [
       "0"
      ],
      "text/plain": [
       "[1] 0"
      ]
     },
     "metadata": {},
     "output_type": "display_data"
    },
    {
     "data": {
      "text/html": [
       "<table class=\"dataframe\">\n",
       "<caption>A tibble: 2 × 3</caption>\n",
       "<thead>\n",
       "\t<tr><th scope=col>stroke</th><th scope=col>stroke_count</th><th scope=col>percentage</th></tr>\n",
       "\t<tr><th scope=col>&lt;fct&gt;</th><th scope=col>&lt;int&gt;</th><th scope=col>&lt;dbl&gt;</th></tr>\n",
       "</thead>\n",
       "<tbody>\n",
       "\t<tr><td>0</td><td>4733</td><td>95.02108</td></tr>\n",
       "\t<tr><td>1</td><td> 248</td><td> 4.97892</td></tr>\n",
       "</tbody>\n",
       "</table>\n"
      ],
      "text/latex": [
       "A tibble: 2 × 3\n",
       "\\begin{tabular}{lll}\n",
       " stroke & stroke\\_count & percentage\\\\\n",
       " <fct> & <int> & <dbl>\\\\\n",
       "\\hline\n",
       "\t 0 & 4733 & 95.02108\\\\\n",
       "\t 1 &  248 &  4.97892\\\\\n",
       "\\end{tabular}\n"
      ],
      "text/markdown": [
       "\n",
       "A tibble: 2 × 3\n",
       "\n",
       "| stroke &lt;fct&gt; | stroke_count &lt;int&gt; | percentage &lt;dbl&gt; |\n",
       "|---|---|---|\n",
       "| 0 | 4733 | 95.02108 |\n",
       "| 1 |  248 |  4.97892 |\n",
       "\n"
      ],
      "text/plain": [
       "  stroke stroke_count percentage\n",
       "1 0      4733         95.02108  \n",
       "2 1       248          4.97892  "
      ]
     },
     "metadata": {},
     "output_type": "display_data"
    },
    {
     "data": {
      "text/html": [
       "<table class=\"dataframe\">\n",
       "<caption>A tibble: 2 × 3</caption>\n",
       "<thead>\n",
       "\t<tr><th scope=col>gender</th><th scope=col>gender_count</th><th scope=col>percentage</th></tr>\n",
       "\t<tr><th scope=col>&lt;fct&gt;</th><th scope=col>&lt;int&gt;</th><th scope=col>&lt;dbl&gt;</th></tr>\n",
       "</thead>\n",
       "<tbody>\n",
       "\t<tr><td>Male  </td><td>2074</td><td>41.63823</td></tr>\n",
       "\t<tr><td>Female</td><td>2907</td><td>58.36177</td></tr>\n",
       "</tbody>\n",
       "</table>\n"
      ],
      "text/latex": [
       "A tibble: 2 × 3\n",
       "\\begin{tabular}{lll}\n",
       " gender & gender\\_count & percentage\\\\\n",
       " <fct> & <int> & <dbl>\\\\\n",
       "\\hline\n",
       "\t Male   & 2074 & 41.63823\\\\\n",
       "\t Female & 2907 & 58.36177\\\\\n",
       "\\end{tabular}\n"
      ],
      "text/markdown": [
       "\n",
       "A tibble: 2 × 3\n",
       "\n",
       "| gender &lt;fct&gt; | gender_count &lt;int&gt; | percentage &lt;dbl&gt; |\n",
       "|---|---|---|\n",
       "| Male   | 2074 | 41.63823 |\n",
       "| Female | 2907 | 58.36177 |\n",
       "\n"
      ],
      "text/plain": [
       "  gender gender_count percentage\n",
       "1 Male   2074         41.63823  \n",
       "2 Female 2907         58.36177  "
      ]
     },
     "metadata": {},
     "output_type": "display_data"
    },
    {
     "data": {
      "text/html": [
       "<table class=\"dataframe\">\n",
       "<caption>A tibble: 4 × 3</caption>\n",
       "<thead>\n",
       "\t<tr><th scope=col>smoking_status</th><th scope=col>smoker_count</th><th scope=col>percentage</th></tr>\n",
       "\t<tr><th scope=col>&lt;fct&gt;</th><th scope=col>&lt;int&gt;</th><th scope=col>&lt;dbl&gt;</th></tr>\n",
       "</thead>\n",
       "<tbody>\n",
       "\t<tr><td>formerly smoked</td><td>70</td><td>1.4053403</td></tr>\n",
       "\t<tr><td>never smoked   </td><td>89</td><td>1.7867898</td></tr>\n",
       "\t<tr><td>smokes         </td><td>42</td><td>0.8432042</td></tr>\n",
       "\t<tr><td>Unknown        </td><td>47</td><td>0.9435856</td></tr>\n",
       "</tbody>\n",
       "</table>\n"
      ],
      "text/latex": [
       "A tibble: 4 × 3\n",
       "\\begin{tabular}{lll}\n",
       " smoking\\_status & smoker\\_count & percentage\\\\\n",
       " <fct> & <int> & <dbl>\\\\\n",
       "\\hline\n",
       "\t formerly smoked & 70 & 1.4053403\\\\\n",
       "\t never smoked    & 89 & 1.7867898\\\\\n",
       "\t smokes          & 42 & 0.8432042\\\\\n",
       "\t Unknown         & 47 & 0.9435856\\\\\n",
       "\\end{tabular}\n"
      ],
      "text/markdown": [
       "\n",
       "A tibble: 4 × 3\n",
       "\n",
       "| smoking_status &lt;fct&gt; | smoker_count &lt;int&gt; | percentage &lt;dbl&gt; |\n",
       "|---|---|---|\n",
       "| formerly smoked | 70 | 1.4053403 |\n",
       "| never smoked    | 89 | 1.7867898 |\n",
       "| smokes          | 42 | 0.8432042 |\n",
       "| Unknown         | 47 | 0.9435856 |\n",
       "\n"
      ],
      "text/plain": [
       "  smoking_status  smoker_count percentage\n",
       "1 formerly smoked 70           1.4053403 \n",
       "2 never smoked    89           1.7867898 \n",
       "3 smokes          42           0.8432042 \n",
       "4 Unknown         47           0.9435856 "
      ]
     },
     "metadata": {},
     "output_type": "display_data"
    },
    {
     "data": {
      "text/html": [
       "<table class=\"dataframe\">\n",
       "<caption>A tibble: 2 × 2</caption>\n",
       "<thead>\n",
       "\t<tr><th scope=col>stroke</th><th scope=col>avg_bmi</th></tr>\n",
       "\t<tr><th scope=col>&lt;fct&gt;</th><th scope=col>&lt;dbl&gt;</th></tr>\n",
       "</thead>\n",
       "<tbody>\n",
       "\t<tr><td>0</td><td>28.40970</td></tr>\n",
       "\t<tr><td>1</td><td>30.18669</td></tr>\n",
       "</tbody>\n",
       "</table>\n"
      ],
      "text/latex": [
       "A tibble: 2 × 2\n",
       "\\begin{tabular}{ll}\n",
       " stroke & avg\\_bmi\\\\\n",
       " <fct> & <dbl>\\\\\n",
       "\\hline\n",
       "\t 0 & 28.40970\\\\\n",
       "\t 1 & 30.18669\\\\\n",
       "\\end{tabular}\n"
      ],
      "text/markdown": [
       "\n",
       "A tibble: 2 × 2\n",
       "\n",
       "| stroke &lt;fct&gt; | avg_bmi &lt;dbl&gt; |\n",
       "|---|---|\n",
       "| 0 | 28.40970 |\n",
       "| 1 | 30.18669 |\n",
       "\n"
      ],
      "text/plain": [
       "  stroke avg_bmi \n",
       "1 0      28.40970\n",
       "2 1      30.18669"
      ]
     },
     "metadata": {},
     "output_type": "display_data"
    },
    {
     "data": {
      "text/html": [
       "<table class=\"dataframe\">\n",
       "<caption>A tibble: 2 × 2</caption>\n",
       "<thead>\n",
       "\t<tr><th scope=col>stroke</th><th scope=col>mean_glucose</th></tr>\n",
       "\t<tr><th scope=col>&lt;fct&gt;</th><th scope=col>&lt;dbl&gt;</th></tr>\n",
       "</thead>\n",
       "<tbody>\n",
       "\t<tr><td>0</td><td>104.5691</td></tr>\n",
       "\t<tr><td>1</td><td>132.1756</td></tr>\n",
       "</tbody>\n",
       "</table>\n"
      ],
      "text/latex": [
       "A tibble: 2 × 2\n",
       "\\begin{tabular}{ll}\n",
       " stroke & mean\\_glucose\\\\\n",
       " <fct> & <dbl>\\\\\n",
       "\\hline\n",
       "\t 0 & 104.5691\\\\\n",
       "\t 1 & 132.1756\\\\\n",
       "\\end{tabular}\n"
      ],
      "text/markdown": [
       "\n",
       "A tibble: 2 × 2\n",
       "\n",
       "| stroke &lt;fct&gt; | mean_glucose &lt;dbl&gt; |\n",
       "|---|---|\n",
       "| 0 | 104.5691 |\n",
       "| 1 | 132.1756 |\n",
       "\n"
      ],
      "text/plain": [
       "  stroke mean_glucose\n",
       "1 0      104.5691    \n",
       "2 1      132.1756    "
      ]
     },
     "metadata": {},
     "output_type": "display_data"
    },
    {
     "data": {
      "text/html": [
       "<table class=\"dataframe\">\n",
       "<caption>A tibble: 2 × 2</caption>\n",
       "<thead>\n",
       "\t<tr><th scope=col>stroke</th><th scope=col>avg_age</th></tr>\n",
       "\t<tr><th scope=col>&lt;fct&gt;</th><th scope=col>&lt;dbl&gt;</th></tr>\n",
       "</thead>\n",
       "<tbody>\n",
       "\t<tr><td>0</td><td>42.14135</td></tr>\n",
       "\t<tr><td>1</td><td>67.81984</td></tr>\n",
       "</tbody>\n",
       "</table>\n"
      ],
      "text/latex": [
       "A tibble: 2 × 2\n",
       "\\begin{tabular}{ll}\n",
       " stroke & avg\\_age\\\\\n",
       " <fct> & <dbl>\\\\\n",
       "\\hline\n",
       "\t 0 & 42.14135\\\\\n",
       "\t 1 & 67.81984\\\\\n",
       "\\end{tabular}\n"
      ],
      "text/markdown": [
       "\n",
       "A tibble: 2 × 2\n",
       "\n",
       "| stroke &lt;fct&gt; | avg_age &lt;dbl&gt; |\n",
       "|---|---|\n",
       "| 0 | 42.14135 |\n",
       "| 1 | 67.81984 |\n",
       "\n"
      ],
      "text/plain": [
       "  stroke avg_age \n",
       "1 0      42.14135\n",
       "2 1      67.81984"
      ]
     },
     "metadata": {},
     "output_type": "display_data"
    }
   ],
   "source": [
    "# 1. any missing data?\n",
    "not_available <- sum(is.na(brainstroke_data_v1))\n",
    "\n",
    "not_available\n",
    "\n",
    "\n",
    "# 2. summarized table 1: stroke counts and proportions\n",
    "total_obs <- nrow(brainstroke_data_v1)\n",
    "\n",
    "stroke_proportions <- brainstroke_data_v1 |>\n",
    "    group_by(stroke) |>\n",
    "    summarize(stroke_count = n(),\n",
    "              percentage = (stroke_count / total_obs) * 100)\n",
    "\n",
    "stroke_proportions\n",
    "\n",
    "\n",
    "# 3. summarized table 2: gender counts and proportions\n",
    "gender_proportions <- brainstroke_data_v1 |>\n",
    "    group_by(gender) |>\n",
    "    summarize(gender_count = n(),\n",
    "              percentage = (gender_count / total_obs) * 100)\n",
    "\n",
    "gender_proportions\n",
    "\n",
    "\n",
    "# 4. summarized table 3: smoker proportions among those with stroke\n",
    "stroke_smokers <- brainstroke_data_v1 |>\n",
    "    filter(stroke == 1) |>\n",
    "    group_by(smoking_status) |>\n",
    "    summarize(smoker_count = n(),\n",
    "              percentage = (smoker_count / total_obs) * 100) \n",
    "    \n",
    "stroke_smokers\n",
    "\n",
    "\n",
    "# 5. summarized table 4: mean body mass indexes (bmi) of those with/without stroke\n",
    "stroke_bmi <- brainstroke_data_v1 |>\n",
    "    group_by(stroke) |>\n",
    "    summarise(avg_bmi = mean(body_mass_index))\n",
    "\n",
    "stroke_bmi\n",
    "\n",
    "\n",
    "# 6. summarized table 5: mean average glucose levels of those with/without stroke\n",
    "stroke_glucose <- brainstroke_data_v1 |>\n",
    "    group_by(stroke) |>\n",
    "    summarise(mean_glucose = mean(avg_glucose_level))\n",
    "\n",
    "stroke_glucose\n",
    "\n",
    "\n",
    "# 7. summarized table 6: mean age of those with/without stroke\n",
    "stroke_age <- brainstroke_data_v1 |>\n",
    "    group_by(stroke) |>\n",
    "    summarise(avg_age = mean(age))\n",
    "\n",
    "stroke_age"
   ]
  },
  {
   "cell_type": "code",
   "execution_count": null,
   "id": "f4eee296-80d5-40ba-94c5-4f478651ccb5",
   "metadata": {},
   "outputs": [],
   "source": []
  }
 ],
 "metadata": {
  "kernelspec": {
   "display_name": "R",
   "language": "R",
   "name": "ir"
  },
  "language_info": {
   "codemirror_mode": "r",
   "file_extension": ".r",
   "mimetype": "text/x-r-source",
   "name": "R",
   "pygments_lexer": "r",
   "version": "4.1.3"
  }
 },
 "nbformat": 4,
 "nbformat_minor": 5
}
