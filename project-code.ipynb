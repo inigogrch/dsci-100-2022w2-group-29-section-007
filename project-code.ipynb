{
 "cells": [
  {
   "cell_type": "code",
   "execution_count": null,
   "id": "07849ca1-fdaf-4fe8-97c0-995b3ba6a1b8",
   "metadata": {},
   "outputs": [],
   "source": [
    "kaggle datasets download -d zzettrkalpakbal/full-filled-brain-stroke-dataset (API command)"
   ]
  }
 ],
 "metadata": {
  "kernelspec": {
   "display_name": "R",
   "language": "R",
   "name": "ir"
  },
  "language_info": {
   "codemirror_mode": "r",
   "file_extension": ".r",
   "mimetype": "text/x-r-source",
   "name": "R",
   "pygments_lexer": "r",
   "version": "4.1.3"
  }
 },
 "nbformat": 4,
 "nbformat_minor": 5
}
