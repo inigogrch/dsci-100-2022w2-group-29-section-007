{
 "cells": [
  {
   "cell_type": "code",
   "execution_count": 16,
   "id": "0ab20e0a-92fa-4f01-9c11-54868683178e",
   "metadata": {},
   "outputs": [],
   "source": [
    "library(tidyverse)\n",
    "library(repr)\n",
    "library(tidymodels)\n",
    "options(repr.matrix.max.rows = 8) "
   ]
  },
  {
   "cell_type": "code",
   "execution_count": 17,
   "id": "eeb8453f-f25e-44f3-89c8-cc8152530098",
   "metadata": {},
   "outputs": [
    {
     "name": "stderr",
     "output_type": "stream",
     "text": [
      "\u001b[1mRows: \u001b[22m\u001b[34m4981\u001b[39m \u001b[1mColumns: \u001b[22m\u001b[34m11\u001b[39m\n",
      "\u001b[36m──\u001b[39m \u001b[1mColumn specification\u001b[22m \u001b[36m────────────────────────────────────────────────────────\u001b[39m\n",
      "\u001b[1mDelimiter:\u001b[22m \",\"\n",
      "\u001b[31mchr\u001b[39m (5): gender, ever_married, work_type, Residence_type, smoking_status\n",
      "\u001b[32mdbl\u001b[39m (6): age, hypertension, heart_disease, avg_glucose_level, bmi, stroke\n",
      "\n",
      "\u001b[36mℹ\u001b[39m Use `spec()` to retrieve the full column specification for this data.\n",
      "\u001b[36mℹ\u001b[39m Specify the column types or set `show_col_types = FALSE` to quiet this message.\n"
     ]
    },
    {
     "data": {
      "text/html": [
       "<table class=\"dataframe\">\n",
       "<caption>A spec_tbl_df: 4981 × 11</caption>\n",
       "<thead>\n",
       "\t<tr><th scope=col>gender</th><th scope=col>age</th><th scope=col>hypertension</th><th scope=col>heart_disease</th><th scope=col>ever_married</th><th scope=col>work_type</th><th scope=col>Residence_type</th><th scope=col>avg_glucose_level</th><th scope=col>bmi</th><th scope=col>smoking_status</th><th scope=col>stroke</th></tr>\n",
       "\t<tr><th scope=col>&lt;chr&gt;</th><th scope=col>&lt;dbl&gt;</th><th scope=col>&lt;dbl&gt;</th><th scope=col>&lt;dbl&gt;</th><th scope=col>&lt;chr&gt;</th><th scope=col>&lt;chr&gt;</th><th scope=col>&lt;chr&gt;</th><th scope=col>&lt;dbl&gt;</th><th scope=col>&lt;dbl&gt;</th><th scope=col>&lt;chr&gt;</th><th scope=col>&lt;dbl&gt;</th></tr>\n",
       "</thead>\n",
       "<tbody>\n",
       "\t<tr><td>Male  </td><td>67</td><td>0</td><td>1</td><td>Yes</td><td>Private      </td><td>Urban</td><td>228.69</td><td>36.6</td><td>formerly smoked</td><td>1</td></tr>\n",
       "\t<tr><td>Male  </td><td>80</td><td>0</td><td>1</td><td>Yes</td><td>Private      </td><td>Rural</td><td>105.92</td><td>32.5</td><td>never smoked   </td><td>1</td></tr>\n",
       "\t<tr><td>Female</td><td>49</td><td>0</td><td>0</td><td>Yes</td><td>Private      </td><td>Urban</td><td>171.23</td><td>34.4</td><td>smokes         </td><td>1</td></tr>\n",
       "\t<tr><td>Female</td><td>79</td><td>1</td><td>0</td><td>Yes</td><td>Self-employed</td><td>Rural</td><td>174.12</td><td>24.0</td><td>never smoked   </td><td>1</td></tr>\n",
       "\t<tr><td>⋮</td><td>⋮</td><td>⋮</td><td>⋮</td><td>⋮</td><td>⋮</td><td>⋮</td><td>⋮</td><td>⋮</td><td>⋮</td><td>⋮</td></tr>\n",
       "\t<tr><td>Male  </td><td>40</td><td>0</td><td>0</td><td>Yes</td><td>Private </td><td>Urban</td><td>191.15</td><td>31.1</td><td>smokes      </td><td>0</td></tr>\n",
       "\t<tr><td>Female</td><td>45</td><td>1</td><td>0</td><td>Yes</td><td>Govt_job</td><td>Rural</td><td> 95.02</td><td>31.8</td><td>smokes      </td><td>0</td></tr>\n",
       "\t<tr><td>Male  </td><td>40</td><td>0</td><td>0</td><td>Yes</td><td>Private </td><td>Rural</td><td> 83.94</td><td>30.0</td><td>smokes      </td><td>0</td></tr>\n",
       "\t<tr><td>Female</td><td>80</td><td>1</td><td>0</td><td>Yes</td><td>Private </td><td>Urban</td><td> 83.75</td><td>29.1</td><td>never smoked</td><td>0</td></tr>\n",
       "</tbody>\n",
       "</table>\n"
      ],
      "text/latex": [
       "A spec\\_tbl\\_df: 4981 × 11\n",
       "\\begin{tabular}{lllllllllll}\n",
       " gender & age & hypertension & heart\\_disease & ever\\_married & work\\_type & Residence\\_type & avg\\_glucose\\_level & bmi & smoking\\_status & stroke\\\\\n",
       " <chr> & <dbl> & <dbl> & <dbl> & <chr> & <chr> & <chr> & <dbl> & <dbl> & <chr> & <dbl>\\\\\n",
       "\\hline\n",
       "\t Male   & 67 & 0 & 1 & Yes & Private       & Urban & 228.69 & 36.6 & formerly smoked & 1\\\\\n",
       "\t Male   & 80 & 0 & 1 & Yes & Private       & Rural & 105.92 & 32.5 & never smoked    & 1\\\\\n",
       "\t Female & 49 & 0 & 0 & Yes & Private       & Urban & 171.23 & 34.4 & smokes          & 1\\\\\n",
       "\t Female & 79 & 1 & 0 & Yes & Self-employed & Rural & 174.12 & 24.0 & never smoked    & 1\\\\\n",
       "\t ⋮ & ⋮ & ⋮ & ⋮ & ⋮ & ⋮ & ⋮ & ⋮ & ⋮ & ⋮ & ⋮\\\\\n",
       "\t Male   & 40 & 0 & 0 & Yes & Private  & Urban & 191.15 & 31.1 & smokes       & 0\\\\\n",
       "\t Female & 45 & 1 & 0 & Yes & Govt\\_job & Rural &  95.02 & 31.8 & smokes       & 0\\\\\n",
       "\t Male   & 40 & 0 & 0 & Yes & Private  & Rural &  83.94 & 30.0 & smokes       & 0\\\\\n",
       "\t Female & 80 & 1 & 0 & Yes & Private  & Urban &  83.75 & 29.1 & never smoked & 0\\\\\n",
       "\\end{tabular}\n"
      ],
      "text/markdown": [
       "\n",
       "A spec_tbl_df: 4981 × 11\n",
       "\n",
       "| gender &lt;chr&gt; | age &lt;dbl&gt; | hypertension &lt;dbl&gt; | heart_disease &lt;dbl&gt; | ever_married &lt;chr&gt; | work_type &lt;chr&gt; | Residence_type &lt;chr&gt; | avg_glucose_level &lt;dbl&gt; | bmi &lt;dbl&gt; | smoking_status &lt;chr&gt; | stroke &lt;dbl&gt; |\n",
       "|---|---|---|---|---|---|---|---|---|---|---|\n",
       "| Male   | 67 | 0 | 1 | Yes | Private       | Urban | 228.69 | 36.6 | formerly smoked | 1 |\n",
       "| Male   | 80 | 0 | 1 | Yes | Private       | Rural | 105.92 | 32.5 | never smoked    | 1 |\n",
       "| Female | 49 | 0 | 0 | Yes | Private       | Urban | 171.23 | 34.4 | smokes          | 1 |\n",
       "| Female | 79 | 1 | 0 | Yes | Self-employed | Rural | 174.12 | 24.0 | never smoked    | 1 |\n",
       "| ⋮ | ⋮ | ⋮ | ⋮ | ⋮ | ⋮ | ⋮ | ⋮ | ⋮ | ⋮ | ⋮ |\n",
       "| Male   | 40 | 0 | 0 | Yes | Private  | Urban | 191.15 | 31.1 | smokes       | 0 |\n",
       "| Female | 45 | 1 | 0 | Yes | Govt_job | Rural |  95.02 | 31.8 | smokes       | 0 |\n",
       "| Male   | 40 | 0 | 0 | Yes | Private  | Rural |  83.94 | 30.0 | smokes       | 0 |\n",
       "| Female | 80 | 1 | 0 | Yes | Private  | Urban |  83.75 | 29.1 | never smoked | 0 |\n",
       "\n"
      ],
      "text/plain": [
       "     gender age hypertension heart_disease ever_married work_type    \n",
       "1    Male   67  0            1             Yes          Private      \n",
       "2    Male   80  0            1             Yes          Private      \n",
       "3    Female 49  0            0             Yes          Private      \n",
       "4    Female 79  1            0             Yes          Self-employed\n",
       "⋮    ⋮      ⋮   ⋮            ⋮             ⋮            ⋮            \n",
       "4978 Male   40  0            0             Yes          Private      \n",
       "4979 Female 45  1            0             Yes          Govt_job     \n",
       "4980 Male   40  0            0             Yes          Private      \n",
       "4981 Female 80  1            0             Yes          Private      \n",
       "     Residence_type avg_glucose_level bmi  smoking_status  stroke\n",
       "1    Urban          228.69            36.6 formerly smoked 1     \n",
       "2    Rural          105.92            32.5 never smoked    1     \n",
       "3    Urban          171.23            34.4 smokes          1     \n",
       "4    Rural          174.12            24.0 never smoked    1     \n",
       "⋮    ⋮              ⋮                 ⋮    ⋮               ⋮     \n",
       "4978 Urban          191.15            31.1 smokes          0     \n",
       "4979 Rural           95.02            31.8 smokes          0     \n",
       "4980 Rural           83.94            30.0 smokes          0     \n",
       "4981 Urban           83.75            29.1 never smoked    0     "
      ]
     },
     "metadata": {},
     "output_type": "display_data"
    }
   ],
   "source": [
    "# read the brainstroke csv file into R by downloading/uploading it into Google Drive and using a direct output link\n",
    "brainstroke_data <- read_csv(\"https://drive.google.com/uc?export=download&id=1yBiO_qBE9_YBvnEyPe2bazH5ZCOBb1d6\")\n",
    "\n",
    "brainstroke_data"
   ]
  },
  {
   "cell_type": "code",
   "execution_count": 18,
   "id": "435c4fc6-a972-4290-9c95-4838775eea18",
   "metadata": {},
   "outputs": [],
   "source": [
    "# # changing chr data to categorical int data (gender, smoking status, work type, residence type)\n",
    "# # changing dbl data to categorical int data (hypertension, heart disease)\n",
    "# # removing ever_married column\n",
    "# # changing Residence_type to residence_type\n",
    "\n",
    "# brainstroke_data_v1 <- brainstroke_data |>\n",
    "#     mutate(gender = as_factor(ifelse(gender == 'Male', 1, 2)),\n",
    "#            smoking_status = as_factor(ifelse(smoking_status == 'never smoked', 1, \n",
    "#                                       ifelse(smoking_status == 'formerly smoked', 2, \n",
    "#                                       ifelse(smoking_status == 'smokes', 3, \n",
    "#                                       ifelse(smoking_status == 'Unknown', 4, 'n/a'))))),\n",
    "#            work_type = as_factor(ifelse(work_type == 'Private', 1, \n",
    "#                        ifelse(work_type == 'Self-employed', 2, \n",
    "#                        ifelse(work_type == 'Govt_job', 3, 'n/a')))),\n",
    "#            Residence_type = as_factor(ifelse(Residence_type == 'Rural', 1, 2)),\n",
    "#            stroke = as_factor(stroke),\n",
    "#            heart_disease = as_factor(heart_disease),\n",
    "#            hypertension = as_factor(hypertension)) |>\n",
    "#     select(1:4, 6:11) \n",
    "\n",
    "# colnames(brainstroke_data_v1)[6] <- 'residence_type'\n",
    "\n",
    "# brainstroke_data_v1\n",
    "\n",
    "# brainstroke_data_v1 <- brainstroke_data |>\n",
    "#     mutate(gender = as_factor(gender),\n",
    "#            smoking_status = as_factor(smoking_status),\n",
    "#            work_type = as_factor(work_type),\n",
    "#            Residence_type = as_factor(Residence_type),\n",
    "#            stroke = as_factor(stroke),\n",
    "#            heart_disease = as_factor(heart_disease),\n",
    "#            hypertension = as_factor(hypertension)) |>\n",
    "#     select(1:4, 6:11) \n",
    "\n",
    "# colnames(brainstroke_data_v1)[6] <- 'residence_type'\n",
    "# colnames(brainstroke_data_v1)[8] <- 'body_mass_index'\n",
    "\n",
    "# brainstroke_data_v1\n",
    "\n",
    "# # 6. summarized table 5: mean average glucose levels of those with/without stroke\n",
    "# stroke_glucose <- brainstroke_data_v1 |>\n",
    "#     group_by(stroke) |>\n",
    "#     summarise(mean_glucose = mean(avg_glucose_level))\n",
    "# stroke_glucose\n",
    "# # 7. summarized table 6: mean age of those with/without stroke\n",
    "# stroke_age <- brainstroke_data_v1 |>\n",
    "#     group_by(stroke) |>\n",
    "#     summarise(avg_age = mean(age))\n",
    "# stroke_age\n",
    "# # getting total number of observations and number of observations for male and female\n",
    "# total_obs <- nrow(brainstroke_data_v1)\n",
    "# male_obs <- nrow(filter(brainstroke_data_v1, gender == 'Male'))\n",
    "# female_obs <- nrow(filter(brainstroke_data_v1, gender == 'Female'))\n",
    "\n",
    "# Summarized table: smoker proportions among those with stroke\n",
    "# stroke_obs <- nrow(filter(brainstroke_data_v1, stroke == 1))\n",
    "\n",
    "# stroke_smokers <- brainstroke_data_v1 |>\n",
    "#     filter(stroke == 1) |>\n",
    "#     group_by(smoking_status) |>\n",
    "#     summarize(smoker_count = n(),\n",
    "#               percentage = (smoker_count / stroke_obs) * 100) \n",
    "    \n",
    "# stroke_smokers\n",
    "# 3. Summarized table 3: gender, age, and stroke of top 8 highest glucose level\n",
    "# top_7_avg_glucose <- brainstroke_data_v1 |>\n",
    "#     select(gender, age, avg_glucose_level, stroke) |>\n",
    "#     arrange(desc(avg_glucose_level)) |>\n",
    "#     head(7)\n",
    "\n",
    "# top_7_avg_glucose\n",
    "\n",
    "# 3. Summarized table 3: gender counts and proportions between those who have/have not gotten a stroke\n",
    "# gender_proportions_by_stroke <- brainstroke_data_v1 |>\n",
    "#     group_by(stroke, gender) |>\n",
    "#     summarize(stroke_gender_count = n(),\n",
    "#               percentage = round((stroke_gender_count / \n",
    "#               ifelse(stroke == 0, no_stroke_obs, stroke_obs) * 100), 2)) |>\n",
    "#     distinct()\n",
    "\n",
    "# gender_proportions_by_stroke"
   ]
  },
  {
   "cell_type": "markdown",
   "id": "b8c63516-9251-4989-86de-3e0cfcdbf04c",
   "metadata": {},
   "source": [
    "<b> GENDER </b> - male (1), female (2)\n",
    "\n",
    "<b> SMOKING STATUS </b> - never smoked (1), formerly smoked (2), smokes (3), Unknown (4)\n",
    "\n",
    "<b> WORK TYPE </b> - private (1), self-employed (2), govt job (3)\n",
    "\n",
    "<b> RESIDENCE TYPE </b> - rural (1), urban (2)"
   ]
  },
  {
   "cell_type": "code",
   "execution_count": 19,
   "id": "64708a6a-b3fa-4857-86b5-c2d994004696",
   "metadata": {},
   "outputs": [
    {
     "data": {
      "text/html": [
       "<table class=\"dataframe\">\n",
       "<caption>A tibble: 4981 × 10</caption>\n",
       "<thead>\n",
       "\t<tr><th scope=col>gender</th><th scope=col>age</th><th scope=col>hypertension</th><th scope=col>heart_disease</th><th scope=col>work_type</th><th scope=col>residence_type</th><th scope=col>avg_glucose_level</th><th scope=col>body_mass_index</th><th scope=col>smoking_status</th><th scope=col>stroke</th></tr>\n",
       "\t<tr><th scope=col>&lt;fct&gt;</th><th scope=col>&lt;dbl&gt;</th><th scope=col>&lt;fct&gt;</th><th scope=col>&lt;fct&gt;</th><th scope=col>&lt;fct&gt;</th><th scope=col>&lt;fct&gt;</th><th scope=col>&lt;dbl&gt;</th><th scope=col>&lt;dbl&gt;</th><th scope=col>&lt;fct&gt;</th><th scope=col>&lt;fct&gt;</th></tr>\n",
       "</thead>\n",
       "<tbody>\n",
       "\t<tr><td>Male  </td><td>67</td><td>0</td><td>1</td><td>Private      </td><td>Urban</td><td>228.69</td><td>36.6</td><td>formerly smoked</td><td>1</td></tr>\n",
       "\t<tr><td>Male  </td><td>80</td><td>0</td><td>1</td><td>Private      </td><td>Rural</td><td>105.92</td><td>32.5</td><td>never smoked   </td><td>1</td></tr>\n",
       "\t<tr><td>Female</td><td>49</td><td>0</td><td>0</td><td>Private      </td><td>Urban</td><td>171.23</td><td>34.4</td><td>smokes         </td><td>1</td></tr>\n",
       "\t<tr><td>Female</td><td>79</td><td>1</td><td>0</td><td>Self-employed</td><td>Rural</td><td>174.12</td><td>24.0</td><td>never smoked   </td><td>1</td></tr>\n",
       "\t<tr><td>⋮</td><td>⋮</td><td>⋮</td><td>⋮</td><td>⋮</td><td>⋮</td><td>⋮</td><td>⋮</td><td>⋮</td><td>⋮</td></tr>\n",
       "\t<tr><td>Male  </td><td>40</td><td>0</td><td>0</td><td>Private </td><td>Urban</td><td>191.15</td><td>31.1</td><td>smokes      </td><td>0</td></tr>\n",
       "\t<tr><td>Female</td><td>45</td><td>1</td><td>0</td><td>Govt_job</td><td>Rural</td><td> 95.02</td><td>31.8</td><td>smokes      </td><td>0</td></tr>\n",
       "\t<tr><td>Male  </td><td>40</td><td>0</td><td>0</td><td>Private </td><td>Rural</td><td> 83.94</td><td>30.0</td><td>smokes      </td><td>0</td></tr>\n",
       "\t<tr><td>Female</td><td>80</td><td>1</td><td>0</td><td>Private </td><td>Urban</td><td> 83.75</td><td>29.1</td><td>never smoked</td><td>0</td></tr>\n",
       "</tbody>\n",
       "</table>\n"
      ],
      "text/latex": [
       "A tibble: 4981 × 10\n",
       "\\begin{tabular}{llllllllll}\n",
       " gender & age & hypertension & heart\\_disease & work\\_type & residence\\_type & avg\\_glucose\\_level & body\\_mass\\_index & smoking\\_status & stroke\\\\\n",
       " <fct> & <dbl> & <fct> & <fct> & <fct> & <fct> & <dbl> & <dbl> & <fct> & <fct>\\\\\n",
       "\\hline\n",
       "\t Male   & 67 & 0 & 1 & Private       & Urban & 228.69 & 36.6 & formerly smoked & 1\\\\\n",
       "\t Male   & 80 & 0 & 1 & Private       & Rural & 105.92 & 32.5 & never smoked    & 1\\\\\n",
       "\t Female & 49 & 0 & 0 & Private       & Urban & 171.23 & 34.4 & smokes          & 1\\\\\n",
       "\t Female & 79 & 1 & 0 & Self-employed & Rural & 174.12 & 24.0 & never smoked    & 1\\\\\n",
       "\t ⋮ & ⋮ & ⋮ & ⋮ & ⋮ & ⋮ & ⋮ & ⋮ & ⋮ & ⋮\\\\\n",
       "\t Male   & 40 & 0 & 0 & Private  & Urban & 191.15 & 31.1 & smokes       & 0\\\\\n",
       "\t Female & 45 & 1 & 0 & Govt\\_job & Rural &  95.02 & 31.8 & smokes       & 0\\\\\n",
       "\t Male   & 40 & 0 & 0 & Private  & Rural &  83.94 & 30.0 & smokes       & 0\\\\\n",
       "\t Female & 80 & 1 & 0 & Private  & Urban &  83.75 & 29.1 & never smoked & 0\\\\\n",
       "\\end{tabular}\n"
      ],
      "text/markdown": [
       "\n",
       "A tibble: 4981 × 10\n",
       "\n",
       "| gender &lt;fct&gt; | age &lt;dbl&gt; | hypertension &lt;fct&gt; | heart_disease &lt;fct&gt; | work_type &lt;fct&gt; | residence_type &lt;fct&gt; | avg_glucose_level &lt;dbl&gt; | body_mass_index &lt;dbl&gt; | smoking_status &lt;fct&gt; | stroke &lt;fct&gt; |\n",
       "|---|---|---|---|---|---|---|---|---|---|\n",
       "| Male   | 67 | 0 | 1 | Private       | Urban | 228.69 | 36.6 | formerly smoked | 1 |\n",
       "| Male   | 80 | 0 | 1 | Private       | Rural | 105.92 | 32.5 | never smoked    | 1 |\n",
       "| Female | 49 | 0 | 0 | Private       | Urban | 171.23 | 34.4 | smokes          | 1 |\n",
       "| Female | 79 | 1 | 0 | Self-employed | Rural | 174.12 | 24.0 | never smoked    | 1 |\n",
       "| ⋮ | ⋮ | ⋮ | ⋮ | ⋮ | ⋮ | ⋮ | ⋮ | ⋮ | ⋮ |\n",
       "| Male   | 40 | 0 | 0 | Private  | Urban | 191.15 | 31.1 | smokes       | 0 |\n",
       "| Female | 45 | 1 | 0 | Govt_job | Rural |  95.02 | 31.8 | smokes       | 0 |\n",
       "| Male   | 40 | 0 | 0 | Private  | Rural |  83.94 | 30.0 | smokes       | 0 |\n",
       "| Female | 80 | 1 | 0 | Private  | Urban |  83.75 | 29.1 | never smoked | 0 |\n",
       "\n"
      ],
      "text/plain": [
       "     gender age hypertension heart_disease work_type     residence_type\n",
       "1    Male   67  0            1             Private       Urban         \n",
       "2    Male   80  0            1             Private       Rural         \n",
       "3    Female 49  0            0             Private       Urban         \n",
       "4    Female 79  1            0             Self-employed Rural         \n",
       "⋮    ⋮      ⋮   ⋮            ⋮             ⋮             ⋮             \n",
       "4978 Male   40  0            0             Private       Urban         \n",
       "4979 Female 45  1            0             Govt_job      Rural         \n",
       "4980 Male   40  0            0             Private       Rural         \n",
       "4981 Female 80  1            0             Private       Urban         \n",
       "     avg_glucose_level body_mass_index smoking_status  stroke\n",
       "1    228.69            36.6            formerly smoked 1     \n",
       "2    105.92            32.5            never smoked    1     \n",
       "3    171.23            34.4            smokes          1     \n",
       "4    174.12            24.0            never smoked    1     \n",
       "⋮    ⋮                 ⋮               ⋮               ⋮     \n",
       "4978 191.15            31.1            smokes          0     \n",
       "4979  95.02            31.8            smokes          0     \n",
       "4980  83.94            30.0            smokes          0     \n",
       "4981  83.75            29.1            never smoked    0     "
      ]
     },
     "metadata": {},
     "output_type": "display_data"
    },
    {
     "data": {
      "text/html": [
       "<style>\n",
       ".list-inline {list-style: none; margin:0; padding: 0}\n",
       ".list-inline>li {display: inline-block}\n",
       ".list-inline>li:not(:last-child)::after {content: \"\\00b7\"; padding: 0 .5ex}\n",
       "</style>\n",
       "<ol class=list-inline><li>Male</li><li>Female</li></ol>\n",
       "\n",
       "<details>\n",
       "\t<summary style=display:list-item;cursor:pointer>\n",
       "\t\t<strong>Levels</strong>:\n",
       "\t</summary>\n",
       "\t<style>\n",
       "\t.list-inline {list-style: none; margin:0; padding: 0}\n",
       "\t.list-inline>li {display: inline-block}\n",
       "\t.list-inline>li:not(:last-child)::after {content: \"\\00b7\"; padding: 0 .5ex}\n",
       "\t</style>\n",
       "\t<ol class=list-inline><li>'Male'</li><li>'Female'</li></ol>\n",
       "</details>"
      ],
      "text/latex": [
       "\\begin{enumerate*}\n",
       "\\item Male\n",
       "\\item Female\n",
       "\\end{enumerate*}\n",
       "\n",
       "\\emph{Levels}: \\begin{enumerate*}\n",
       "\\item 'Male'\n",
       "\\item 'Female'\n",
       "\\end{enumerate*}\n"
      ],
      "text/markdown": [
       "1. Male\n",
       "2. Female\n",
       "\n",
       "\n",
       "\n",
       "**Levels**: 1. 'Male'\n",
       "2. 'Female'\n",
       "\n",
       "\n"
      ],
      "text/plain": [
       "[1] Male   Female\n",
       "Levels: Male Female"
      ]
     },
     "metadata": {},
     "output_type": "display_data"
    },
    {
     "data": {
      "text/html": [
       "<style>\n",
       ".list-inline {list-style: none; margin:0; padding: 0}\n",
       ".list-inline>li {display: inline-block}\n",
       ".list-inline>li:not(:last-child)::after {content: \"\\00b7\"; padding: 0 .5ex}\n",
       "</style>\n",
       "<ol class=list-inline><li>Private</li><li>Self-employed</li><li>Govt_job</li><li>children</li></ol>\n",
       "\n",
       "<details>\n",
       "\t<summary style=display:list-item;cursor:pointer>\n",
       "\t\t<strong>Levels</strong>:\n",
       "\t</summary>\n",
       "\t<style>\n",
       "\t.list-inline {list-style: none; margin:0; padding: 0}\n",
       "\t.list-inline>li {display: inline-block}\n",
       "\t.list-inline>li:not(:last-child)::after {content: \"\\00b7\"; padding: 0 .5ex}\n",
       "\t</style>\n",
       "\t<ol class=list-inline><li>'Private'</li><li>'Self-employed'</li><li>'Govt_job'</li><li>'children'</li></ol>\n",
       "</details>"
      ],
      "text/latex": [
       "\\begin{enumerate*}\n",
       "\\item Private\n",
       "\\item Self-employed\n",
       "\\item Govt\\_job\n",
       "\\item children\n",
       "\\end{enumerate*}\n",
       "\n",
       "\\emph{Levels}: \\begin{enumerate*}\n",
       "\\item 'Private'\n",
       "\\item 'Self-employed'\n",
       "\\item 'Govt\\_job'\n",
       "\\item 'children'\n",
       "\\end{enumerate*}\n"
      ],
      "text/markdown": [
       "1. Private\n",
       "2. Self-employed\n",
       "3. Govt_job\n",
       "4. children\n",
       "\n",
       "\n",
       "\n",
       "**Levels**: 1. 'Private'\n",
       "2. 'Self-employed'\n",
       "3. 'Govt_job'\n",
       "4. 'children'\n",
       "\n",
       "\n"
      ],
      "text/plain": [
       "[1] Private       Self-employed Govt_job      children     \n",
       "Levels: Private Self-employed Govt_job children"
      ]
     },
     "metadata": {},
     "output_type": "display_data"
    },
    {
     "data": {
      "text/html": [
       "<style>\n",
       ".list-inline {list-style: none; margin:0; padding: 0}\n",
       ".list-inline>li {display: inline-block}\n",
       ".list-inline>li:not(:last-child)::after {content: \"\\00b7\"; padding: 0 .5ex}\n",
       "</style>\n",
       "<ol class=list-inline><li>Urban</li><li>Rural</li></ol>\n",
       "\n",
       "<details>\n",
       "\t<summary style=display:list-item;cursor:pointer>\n",
       "\t\t<strong>Levels</strong>:\n",
       "\t</summary>\n",
       "\t<style>\n",
       "\t.list-inline {list-style: none; margin:0; padding: 0}\n",
       "\t.list-inline>li {display: inline-block}\n",
       "\t.list-inline>li:not(:last-child)::after {content: \"\\00b7\"; padding: 0 .5ex}\n",
       "\t</style>\n",
       "\t<ol class=list-inline><li>'Urban'</li><li>'Rural'</li></ol>\n",
       "</details>"
      ],
      "text/latex": [
       "\\begin{enumerate*}\n",
       "\\item Urban\n",
       "\\item Rural\n",
       "\\end{enumerate*}\n",
       "\n",
       "\\emph{Levels}: \\begin{enumerate*}\n",
       "\\item 'Urban'\n",
       "\\item 'Rural'\n",
       "\\end{enumerate*}\n"
      ],
      "text/markdown": [
       "1. Urban\n",
       "2. Rural\n",
       "\n",
       "\n",
       "\n",
       "**Levels**: 1. 'Urban'\n",
       "2. 'Rural'\n",
       "\n",
       "\n"
      ],
      "text/plain": [
       "[1] Urban Rural\n",
       "Levels: Urban Rural"
      ]
     },
     "metadata": {},
     "output_type": "display_data"
    },
    {
     "data": {
      "text/html": [
       "<style>\n",
       ".list-inline {list-style: none; margin:0; padding: 0}\n",
       ".list-inline>li {display: inline-block}\n",
       ".list-inline>li:not(:last-child)::after {content: \"\\00b7\"; padding: 0 .5ex}\n",
       "</style>\n",
       "<ol class=list-inline><li>formerly smoked</li><li>never smoked</li><li>smokes</li><li>Unknown</li></ol>\n",
       "\n",
       "<details>\n",
       "\t<summary style=display:list-item;cursor:pointer>\n",
       "\t\t<strong>Levels</strong>:\n",
       "\t</summary>\n",
       "\t<style>\n",
       "\t.list-inline {list-style: none; margin:0; padding: 0}\n",
       "\t.list-inline>li {display: inline-block}\n",
       "\t.list-inline>li:not(:last-child)::after {content: \"\\00b7\"; padding: 0 .5ex}\n",
       "\t</style>\n",
       "\t<ol class=list-inline><li>'formerly smoked'</li><li>'never smoked'</li><li>'smokes'</li><li>'Unknown'</li></ol>\n",
       "</details>"
      ],
      "text/latex": [
       "\\begin{enumerate*}\n",
       "\\item formerly smoked\n",
       "\\item never smoked\n",
       "\\item smokes\n",
       "\\item Unknown\n",
       "\\end{enumerate*}\n",
       "\n",
       "\\emph{Levels}: \\begin{enumerate*}\n",
       "\\item 'formerly smoked'\n",
       "\\item 'never smoked'\n",
       "\\item 'smokes'\n",
       "\\item 'Unknown'\n",
       "\\end{enumerate*}\n"
      ],
      "text/markdown": [
       "1. formerly smoked\n",
       "2. never smoked\n",
       "3. smokes\n",
       "4. Unknown\n",
       "\n",
       "\n",
       "\n",
       "**Levels**: 1. 'formerly smoked'\n",
       "2. 'never smoked'\n",
       "3. 'smokes'\n",
       "4. 'Unknown'\n",
       "\n",
       "\n"
      ],
      "text/plain": [
       "[1] formerly smoked never smoked    smokes          Unknown        \n",
       "Levels: formerly smoked never smoked smokes Unknown"
      ]
     },
     "metadata": {},
     "output_type": "display_data"
    }
   ],
   "source": [
    "# changing chr data to categorical data (gender, smoking status, work type, residence type, hypertension, heart disease)\n",
    "# removing ever_married column\n",
    "# changed Residence_type and bmi column names\n",
    "\n",
    "brainstroke_data_v1 <- brainstroke_data |>\n",
    "    mutate(across(c(gender, hypertension:Residence_type, smoking_status:stroke),\n",
    "                  as_factor)) |>\n",
    "    select(1:4, 6:11)\n",
    "\n",
    "colnames(brainstroke_data_v1)[6] <- 'residence_type'\n",
    "colnames(brainstroke_data_v1)[8] <- 'body_mass_index'\n",
    "\n",
    "brainstroke_data_v1\n",
    "\n",
    "\n",
    "# checking possible values for gender, work type, residence type, and smoking status\n",
    "\n",
    "unique(brainstroke_data_v1$gender)\n",
    "unique(brainstroke_data_v1$work_type)\n",
    "unique(brainstroke_data_v1$residence_type)\n",
    "unique(brainstroke_data_v1$smoking_status)"
   ]
  },
  {
   "cell_type": "markdown",
   "id": "6eed2f03-fe98-4170-a464-c3ff9c747956",
   "metadata": {},
   "source": [
    "<b> FOR FACTOR DATA - </b> yes (1), no (0) (hypertension, heart disease, stroke)"
   ]
  },
  {
   "cell_type": "code",
   "execution_count": 22,
   "id": "1be1ee42-01ac-4e79-88c5-c1229678df66",
   "metadata": {},
   "outputs": [
    {
     "data": {
      "text/html": [
       "0"
      ],
      "text/latex": [
       "0"
      ],
      "text/markdown": [
       "0"
      ],
      "text/plain": [
       "[1] 0"
      ]
     },
     "metadata": {},
     "output_type": "display_data"
    },
    {
     "data": {
      "text/html": [
       "<table class=\"dataframe\">\n",
       "<caption>A tibble: 2 × 3</caption>\n",
       "<thead>\n",
       "\t<tr><th scope=col>stroke</th><th scope=col>stroke_count</th><th scope=col>percentage</th></tr>\n",
       "\t<tr><th scope=col>&lt;fct&gt;</th><th scope=col>&lt;int&gt;</th><th scope=col>&lt;dbl&gt;</th></tr>\n",
       "</thead>\n",
       "<tbody>\n",
       "\t<tr><td>0</td><td>4733</td><td>95.02</td></tr>\n",
       "\t<tr><td>1</td><td> 248</td><td> 4.98</td></tr>\n",
       "</tbody>\n",
       "</table>\n"
      ],
      "text/latex": [
       "A tibble: 2 × 3\n",
       "\\begin{tabular}{lll}\n",
       " stroke & stroke\\_count & percentage\\\\\n",
       " <fct> & <int> & <dbl>\\\\\n",
       "\\hline\n",
       "\t 0 & 4733 & 95.02\\\\\n",
       "\t 1 &  248 &  4.98\\\\\n",
       "\\end{tabular}\n"
      ],
      "text/markdown": [
       "\n",
       "A tibble: 2 × 3\n",
       "\n",
       "| stroke &lt;fct&gt; | stroke_count &lt;int&gt; | percentage &lt;dbl&gt; |\n",
       "|---|---|---|\n",
       "| 0 | 4733 | 95.02 |\n",
       "| 1 |  248 |  4.98 |\n",
       "\n"
      ],
      "text/plain": [
       "  stroke stroke_count percentage\n",
       "1 0      4733         95.02     \n",
       "2 1       248          4.98     "
      ]
     },
     "metadata": {},
     "output_type": "display_data"
    },
    {
     "data": {
      "text/html": [
       "<table class=\"dataframe\">\n",
       "<caption>A tibble: 2 × 4</caption>\n",
       "<thead>\n",
       "\t<tr><th scope=col>stroke</th><th scope=col>avg_bmi</th><th scope=col>avg_glucose</th><th scope=col>avg_age</th></tr>\n",
       "\t<tr><th scope=col>&lt;fct&gt;</th><th scope=col>&lt;dbl&gt;</th><th scope=col>&lt;dbl&gt;</th><th scope=col>&lt;dbl&gt;</th></tr>\n",
       "</thead>\n",
       "<tbody>\n",
       "\t<tr><td>0</td><td>28.41</td><td>104.57</td><td>42.14</td></tr>\n",
       "\t<tr><td>1</td><td>30.19</td><td>132.18</td><td>67.82</td></tr>\n",
       "</tbody>\n",
       "</table>\n"
      ],
      "text/latex": [
       "A tibble: 2 × 4\n",
       "\\begin{tabular}{llll}\n",
       " stroke & avg\\_bmi & avg\\_glucose & avg\\_age\\\\\n",
       " <fct> & <dbl> & <dbl> & <dbl>\\\\\n",
       "\\hline\n",
       "\t 0 & 28.41 & 104.57 & 42.14\\\\\n",
       "\t 1 & 30.19 & 132.18 & 67.82\\\\\n",
       "\\end{tabular}\n"
      ],
      "text/markdown": [
       "\n",
       "A tibble: 2 × 4\n",
       "\n",
       "| stroke &lt;fct&gt; | avg_bmi &lt;dbl&gt; | avg_glucose &lt;dbl&gt; | avg_age &lt;dbl&gt; |\n",
       "|---|---|---|---|\n",
       "| 0 | 28.41 | 104.57 | 42.14 |\n",
       "| 1 | 30.19 | 132.18 | 67.82 |\n",
       "\n"
      ],
      "text/plain": [
       "  stroke avg_bmi avg_glucose avg_age\n",
       "1 0      28.41   104.57      42.14  \n",
       "2 1      30.19   132.18      67.82  "
      ]
     },
     "metadata": {},
     "output_type": "display_data"
    },
    {
     "name": "stderr",
     "output_type": "stream",
     "text": [
      "\u001b[1m\u001b[22m`summarise()` has grouped output by 'stroke', 'smoking_status'. You can\n",
      "override using the `.groups` argument.\n"
     ]
    },
    {
     "data": {
      "text/html": [
       "<table class=\"dataframe\">\n",
       "<caption>A grouped_df: 8 × 4</caption>\n",
       "<thead>\n",
       "\t<tr><th scope=col>stroke</th><th scope=col>smoking_status</th><th scope=col>stroke_smoker_count</th><th scope=col>percentage</th></tr>\n",
       "\t<tr><th scope=col>&lt;fct&gt;</th><th scope=col>&lt;fct&gt;</th><th scope=col>&lt;int&gt;</th><th scope=col>&lt;dbl&gt;</th></tr>\n",
       "</thead>\n",
       "<tbody>\n",
       "\t<tr><td>0</td><td>formerly smoked</td><td> 797</td><td>16.84</td></tr>\n",
       "\t<tr><td>0</td><td>never smoked   </td><td>1749</td><td>36.95</td></tr>\n",
       "\t<tr><td>0</td><td>smokes         </td><td> 734</td><td>15.51</td></tr>\n",
       "\t<tr><td>0</td><td>Unknown        </td><td>1453</td><td>30.70</td></tr>\n",
       "\t<tr><td>1</td><td>formerly smoked</td><td>  70</td><td>28.23</td></tr>\n",
       "\t<tr><td>1</td><td>never smoked   </td><td>  89</td><td>35.89</td></tr>\n",
       "\t<tr><td>1</td><td>smokes         </td><td>  42</td><td>16.94</td></tr>\n",
       "\t<tr><td>1</td><td>Unknown        </td><td>  47</td><td>18.95</td></tr>\n",
       "</tbody>\n",
       "</table>\n"
      ],
      "text/latex": [
       "A grouped\\_df: 8 × 4\n",
       "\\begin{tabular}{llll}\n",
       " stroke & smoking\\_status & stroke\\_smoker\\_count & percentage\\\\\n",
       " <fct> & <fct> & <int> & <dbl>\\\\\n",
       "\\hline\n",
       "\t 0 & formerly smoked &  797 & 16.84\\\\\n",
       "\t 0 & never smoked    & 1749 & 36.95\\\\\n",
       "\t 0 & smokes          &  734 & 15.51\\\\\n",
       "\t 0 & Unknown         & 1453 & 30.70\\\\\n",
       "\t 1 & formerly smoked &   70 & 28.23\\\\\n",
       "\t 1 & never smoked    &   89 & 35.89\\\\\n",
       "\t 1 & smokes          &   42 & 16.94\\\\\n",
       "\t 1 & Unknown         &   47 & 18.95\\\\\n",
       "\\end{tabular}\n"
      ],
      "text/markdown": [
       "\n",
       "A grouped_df: 8 × 4\n",
       "\n",
       "| stroke &lt;fct&gt; | smoking_status &lt;fct&gt; | stroke_smoker_count &lt;int&gt; | percentage &lt;dbl&gt; |\n",
       "|---|---|---|---|\n",
       "| 0 | formerly smoked |  797 | 16.84 |\n",
       "| 0 | never smoked    | 1749 | 36.95 |\n",
       "| 0 | smokes          |  734 | 15.51 |\n",
       "| 0 | Unknown         | 1453 | 30.70 |\n",
       "| 1 | formerly smoked |   70 | 28.23 |\n",
       "| 1 | never smoked    |   89 | 35.89 |\n",
       "| 1 | smokes          |   42 | 16.94 |\n",
       "| 1 | Unknown         |   47 | 18.95 |\n",
       "\n"
      ],
      "text/plain": [
       "  stroke smoking_status  stroke_smoker_count percentage\n",
       "1 0      formerly smoked  797                16.84     \n",
       "2 0      never smoked    1749                36.95     \n",
       "3 0      smokes           734                15.51     \n",
       "4 0      Unknown         1453                30.70     \n",
       "5 1      formerly smoked   70                28.23     \n",
       "6 1      never smoked      89                35.89     \n",
       "7 1      smokes            42                16.94     \n",
       "8 1      Unknown           47                18.95     "
      ]
     },
     "metadata": {},
     "output_type": "display_data"
    },
    {
     "name": "stderr",
     "output_type": "stream",
     "text": [
      "\u001b[1m\u001b[22m`summarise()` has grouped output by 'stroke', 'hypertension'. You can override\n",
      "using the `.groups` argument.\n"
     ]
    },
    {
     "data": {
      "text/html": [
       "<table class=\"dataframe\">\n",
       "<caption>A grouped_df: 4 × 4</caption>\n",
       "<thead>\n",
       "\t<tr><th scope=col>stroke</th><th scope=col>hypertension</th><th scope=col>stroke_hypertension_count</th><th scope=col>percentage</th></tr>\n",
       "\t<tr><th scope=col>&lt;fct&gt;</th><th scope=col>&lt;chr&gt;</th><th scope=col>&lt;int&gt;</th><th scope=col>&lt;dbl&gt;</th></tr>\n",
       "</thead>\n",
       "<tbody>\n",
       "\t<tr><td>0</td><td>No </td><td>4320</td><td>91.27</td></tr>\n",
       "\t<tr><td>0</td><td>Yes</td><td> 413</td><td> 8.73</td></tr>\n",
       "\t<tr><td>1</td><td>No </td><td> 182</td><td>73.39</td></tr>\n",
       "\t<tr><td>1</td><td>Yes</td><td>  66</td><td>26.61</td></tr>\n",
       "</tbody>\n",
       "</table>\n"
      ],
      "text/latex": [
       "A grouped\\_df: 4 × 4\n",
       "\\begin{tabular}{llll}\n",
       " stroke & hypertension & stroke\\_hypertension\\_count & percentage\\\\\n",
       " <fct> & <chr> & <int> & <dbl>\\\\\n",
       "\\hline\n",
       "\t 0 & No  & 4320 & 91.27\\\\\n",
       "\t 0 & Yes &  413 &  8.73\\\\\n",
       "\t 1 & No  &  182 & 73.39\\\\\n",
       "\t 1 & Yes &   66 & 26.61\\\\\n",
       "\\end{tabular}\n"
      ],
      "text/markdown": [
       "\n",
       "A grouped_df: 4 × 4\n",
       "\n",
       "| stroke &lt;fct&gt; | hypertension &lt;chr&gt; | stroke_hypertension_count &lt;int&gt; | percentage &lt;dbl&gt; |\n",
       "|---|---|---|---|\n",
       "| 0 | No  | 4320 | 91.27 |\n",
       "| 0 | Yes |  413 |  8.73 |\n",
       "| 1 | No  |  182 | 73.39 |\n",
       "| 1 | Yes |   66 | 26.61 |\n",
       "\n"
      ],
      "text/plain": [
       "  stroke hypertension stroke_hypertension_count percentage\n",
       "1 0      No           4320                      91.27     \n",
       "2 0      Yes           413                       8.73     \n",
       "3 1      No            182                      73.39     \n",
       "4 1      Yes            66                      26.61     "
      ]
     },
     "metadata": {},
     "output_type": "display_data"
    },
    {
     "name": "stderr",
     "output_type": "stream",
     "text": [
      "\u001b[1m\u001b[22m`summarise()` has grouped output by 'stroke', 'heart_disease'. You can override\n",
      "using the `.groups` argument.\n"
     ]
    },
    {
     "data": {
      "text/html": [
       "<table class=\"dataframe\">\n",
       "<caption>A grouped_df: 4 × 4</caption>\n",
       "<thead>\n",
       "\t<tr><th scope=col>stroke</th><th scope=col>heart_disease</th><th scope=col>stroke_heartdisease_count</th><th scope=col>percentage</th></tr>\n",
       "\t<tr><th scope=col>&lt;fct&gt;</th><th scope=col>&lt;chr&gt;</th><th scope=col>&lt;int&gt;</th><th scope=col>&lt;dbl&gt;</th></tr>\n",
       "</thead>\n",
       "<tbody>\n",
       "\t<tr><td>0</td><td>No </td><td>4505</td><td>95.18</td></tr>\n",
       "\t<tr><td>0</td><td>Yes</td><td> 228</td><td> 4.82</td></tr>\n",
       "\t<tr><td>1</td><td>No </td><td> 201</td><td>81.05</td></tr>\n",
       "\t<tr><td>1</td><td>Yes</td><td>  47</td><td>18.95</td></tr>\n",
       "</tbody>\n",
       "</table>\n"
      ],
      "text/latex": [
       "A grouped\\_df: 4 × 4\n",
       "\\begin{tabular}{llll}\n",
       " stroke & heart\\_disease & stroke\\_heartdisease\\_count & percentage\\\\\n",
       " <fct> & <chr> & <int> & <dbl>\\\\\n",
       "\\hline\n",
       "\t 0 & No  & 4505 & 95.18\\\\\n",
       "\t 0 & Yes &  228 &  4.82\\\\\n",
       "\t 1 & No  &  201 & 81.05\\\\\n",
       "\t 1 & Yes &   47 & 18.95\\\\\n",
       "\\end{tabular}\n"
      ],
      "text/markdown": [
       "\n",
       "A grouped_df: 4 × 4\n",
       "\n",
       "| stroke &lt;fct&gt; | heart_disease &lt;chr&gt; | stroke_heartdisease_count &lt;int&gt; | percentage &lt;dbl&gt; |\n",
       "|---|---|---|---|\n",
       "| 0 | No  | 4505 | 95.18 |\n",
       "| 0 | Yes |  228 |  4.82 |\n",
       "| 1 | No  |  201 | 81.05 |\n",
       "| 1 | Yes |   47 | 18.95 |\n",
       "\n"
      ],
      "text/plain": [
       "  stroke heart_disease stroke_heartdisease_count percentage\n",
       "1 0      No            4505                      95.18     \n",
       "2 0      Yes            228                       4.82     \n",
       "3 1      No             201                      81.05     \n",
       "4 1      Yes             47                      18.95     "
      ]
     },
     "metadata": {},
     "output_type": "display_data"
    }
   ],
   "source": [
    "#####\n",
    "# any missing data? \n",
    "not_available <- sum(is.na(brainstroke_data_v1))\n",
    "not_available\n",
    "\n",
    "# creating objects for number of observations and number of those with/without stroke\n",
    "total_obs <- nrow(brainstroke_data_v1)\n",
    "no_stroke_obs <- nrow(filter(brainstroke_data_v1, stroke == 0))\n",
    "stroke_obs <- nrow(filter(brainstroke_data_v1, stroke == 1))\n",
    "\n",
    "\n",
    "#####\n",
    "# 1. Summarized table 1: stroke counts and proportions\n",
    "stroke_proportions <- brainstroke_data_v1 |>\n",
    "    group_by(stroke) |>\n",
    "    summarize(stroke_count = n(),\n",
    "              percentage = round((stroke_count / total_obs) * 100, 2))\n",
    "\n",
    "stroke_proportions\n",
    "\n",
    "\n",
    "# 2. Summarized table 2: average bmi, glucose level, and age of those with/without stroke\n",
    "stroke_bmi_gluc_age_avg <- brainstroke_data_v1 |>\n",
    "    group_by(stroke) |>\n",
    "    summarise(avg_bmi = round(mean(body_mass_index), 2),\n",
    "              avg_glucose = round(mean(avg_glucose_level), 2),\n",
    "              avg_age = round(mean(age), 2))\n",
    "\n",
    "stroke_bmi_gluc_age_avg\n",
    "\n",
    "\n",
    "# 3. Summarized table 3: smoking status counts and proportions between those who have/have not gotten a stroke\n",
    "smoker_proportions_stroke <- brainstroke_data_v1 |>\n",
    "    group_by(stroke, smoking_status) |>\n",
    "    summarize(stroke_smoker_count = n(),\n",
    "              percentage = round((stroke_smoker_count / \n",
    "              ifelse(stroke == 0, no_stroke_obs, stroke_obs) * 100), 2)) |>\n",
    "    distinct()\n",
    "              \n",
    "smoker_proportions_stroke\n",
    "\n",
    "\n",
    "# 4. Summarized table 4: hypertension counts and proportions between those who have/have not gotten a stroke\n",
    "hypertension_stroke <- brainstroke_data_v1 |>\n",
    "    mutate(hypertension = ifelse(hypertension == 0, 'No', 'Yes')) |>\n",
    "    group_by(stroke, hypertension) |>\n",
    "    summarize(stroke_hypertension_count = n(),\n",
    "              percentage = round((stroke_hypertension_count / \n",
    "              ifelse(stroke == 0, no_stroke_obs, stroke_obs) * 100), 2)) |>\n",
    "    distinct()\n",
    "        \n",
    "hypertension_stroke\n",
    "\n",
    "\n",
    "# 5. Summarized table 5: heart disease counts and proportions between those who have/have not gotten a stroke\n",
    "heart_disease_stroke <- brainstroke_data_v1 |>\n",
    "    mutate(heart_disease = ifelse(heart_disease == 0, 'No', 'Yes')) |>\n",
    "    group_by(stroke, heart_disease) |>\n",
    "    summarize(stroke_heartdisease_count = n(),\n",
    "              percentage = round((stroke_heartdisease_count / \n",
    "              ifelse(stroke == 0, no_stroke_obs, stroke_obs) * 100), 2)) |>\n",
    "    distinct()\n",
    "        \n",
    "heart_disease_stroke"
   ]
  },
  {
   "cell_type": "code",
   "execution_count": 23,
   "id": "f4eee296-80d5-40ba-94c5-4f478651ccb5",
   "metadata": {},
   "outputs": [
    {
     "data": {
      "image/png": "[encoded data removed]",
      "text/plain": [
       "plot without title"
      ]
     },
     "metadata": {
      "image/png": {
       "height": 420,
       "width": 420
      }
     },
     "output_type": "display_data"
    },
    {
     "data": {
      "image/png": "[encoded data removed]",
      "text/plain": [
       "plot without title"
      ]
     },
     "metadata": {
      "image/png": {
       "height": 420,
       "width": 420
      }
     },
     "output_type": "display_data"
    },
    {
     "data": {
      "image/png": "[encoded data removed]",
      "text/plain": [
       "plot without title"
      ]
     },
     "metadata": {
      "image/png": {
       "height": 420,
       "width": 420
      }
     },
     "output_type": "display_data"
    }
   ],
   "source": [
    "histogram_data <- brainstroke_data_v1 |>\n",
    "    mutate(stroke = recode(stroke, '0' = \"No\", '1' = \"Yes\"))\n",
    "    \n",
    "\n",
    "age_histogram_plot <- histogram_data |>\n",
    "    ggplot(aes(x = age, fill = stroke)) +\n",
    "    geom_histogram(bins = 15) +\n",
    "    xlab(\"Age of Individual (Years)\") +\n",
    "    ylab(\"Number of Individuals\") +\n",
    "    labs(fill = \"Has had a Stroke\") +\n",
    "    ggtitle(\"Distribution of Population Age\") +\n",
    "    theme(text = element_text(size=15))\n",
    "\n",
    "age_histogram_plot\n",
    "\n",
    "bmi_histogram_plot <- histogram_data |>\n",
    "    ggplot(aes(x = body_mass_index, fill = stroke)) +\n",
    "    geom_histogram(bins = 25) +\n",
    "    xlab(\"BMI of Individual\") +\n",
    "    ylab(\"Number of Individuals\") +\n",
    "    labs(fill = \"Has had a Stroke\") +\n",
    "    ggtitle(\"Distribution of Population BMI\") +\n",
    "    theme(text = element_text(size=15))\n",
    "\n",
    "bmi_histogram_plot\n",
    "\n",
    "glucose_histogram_plot <- histogram_data |>\n",
    "    ggplot(aes(x = avg_glucose_level, fill = stroke)) +\n",
    "    geom_histogram(bins = 15) +\n",
    "    xlab(\"Average Glucose Level(mg/dL)\") +\n",
    "    ylab(\"Number of Individuals\") +\n",
    "    labs(fill = \"Has had a Stroke\") +\n",
    "    ggtitle(\"Distribution of Population Glucose Level\") +\n",
    "    theme(text = element_text(size=15))\n",
    "\n",
    "glucose_histogram_plot"
   ]
  },
  {
   "cell_type": "code",
   "execution_count": null,
   "id": "4ccf90e1-6ac7-42a1-81b6-560f0413bf1c",
   "metadata": {},
   "outputs": [],
   "source": []
  }
 ],
 "metadata": {
  "kernelspec": {
   "display_name": "R",
   "language": "R",
   "name": "ir"
  },
  "language_info": {
   "codemirror_mode": "r",
   "file_extension": ".r",
   "mimetype": "text/x-r-source",
   "name": "R",
   "pygments_lexer": "r",
   "version": "4.1.3"
  }
 },
 "nbformat": 4,
 "nbformat_minor": 5
}
